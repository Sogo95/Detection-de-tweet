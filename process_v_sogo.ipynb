{
  "cells": [
    {
      "cell_type": "markdown",
      "metadata": {
        "id": "view-in-github",
        "colab_type": "text"
      },
      "source": [
        "<a href=\"https://colab.research.google.com/github/Sogo95/Detection-de-tweet/blob/main/process_v_sogo.ipynb\" target=\"_parent\"><img src=\"https://colab.research.google.com/assets/colab-badge.svg\" alt=\"Open In Colab\"/></a>"
      ]
    },
    {
      "cell_type": "markdown",
      "metadata": {
        "id": "F3O8vuxaWjQQ"
      },
      "source": [
        "#**INTRODUCTION**\n"
      ]
    },
    {
      "cell_type": "code",
      "execution_count": null,
      "metadata": {
        "colab": {
          "base_uri": "https://localhost:8080/"
        },
        "id": "-Nb1R8EInkkF",
        "outputId": "c2b46288-81b0-4516-8550-4a44761cf543"
      },
      "outputs": [
        {
          "output_type": "stream",
          "name": "stdout",
          "text": [
            "Collecting scikit-learn==1.0.2\n",
            "  Downloading scikit_learn-1.0.2-cp310-cp310-manylinux_2_17_x86_64.manylinux2014_x86_64.whl.metadata (10 kB)\n",
            "Requirement already satisfied: numpy>=1.14.6 in /usr/local/lib/python3.10/dist-packages (from scikit-learn==1.0.2) (1.26.4)\n",
            "Requirement already satisfied: scipy>=1.1.0 in /usr/local/lib/python3.10/dist-packages (from scikit-learn==1.0.2) (1.13.1)\n",
            "Requirement already satisfied: joblib>=0.11 in /usr/local/lib/python3.10/dist-packages (from scikit-learn==1.0.2) (1.4.2)\n",
            "Requirement already satisfied: threadpoolctl>=2.0.0 in /usr/local/lib/python3.10/dist-packages (from scikit-learn==1.0.2) (3.5.0)\n",
            "Downloading scikit_learn-1.0.2-cp310-cp310-manylinux_2_17_x86_64.manylinux2014_x86_64.whl (26.5 MB)\n",
            "\u001b[2K   \u001b[90m━━━━━━━━━━━━━━━━━━━━━━━━━━━━━━━━━━━━━━━━\u001b[0m \u001b[32m26.5/26.5 MB\u001b[0m \u001b[31m57.7 MB/s\u001b[0m eta \u001b[36m0:00:00\u001b[0m\n",
            "\u001b[?25hInstalling collected packages: scikit-learn\n",
            "  Attempting uninstall: scikit-learn\n",
            "    Found existing installation: scikit-learn 1.5.2\n",
            "    Uninstalling scikit-learn-1.5.2:\n",
            "      Successfully uninstalled scikit-learn-1.5.2\n",
            "\u001b[31mERROR: pip's dependency resolver does not currently take into account all the packages that are installed. This behaviour is the source of the following dependency conflicts.\n",
            "bigframes 1.25.0 requires scikit-learn>=1.2.2, but you have scikit-learn 1.0.2 which is incompatible.\n",
            "mlxtend 0.23.2 requires scikit-learn>=1.3.1, but you have scikit-learn 1.0.2 which is incompatible.\u001b[0m\u001b[31m\n",
            "\u001b[0mSuccessfully installed scikit-learn-1.0.2\n"
          ]
        }
      ],
      "source": [
        "#Importation des librairie nécéssaires\n",
        "!pip install scikit-learn==1.0.2 # Install scikit-learn version 1.0.2 where plot_roc_curve is still available\n",
        "import pandas as pd\n",
        "from sklearn.model_selection import train_test_split\n",
        "from sklearn.feature_extraction.text import TfidfVectorizer\n",
        "from sklearn.linear_model import LogisticRegression\n",
        "from sklearn.metrics import classification_report"
      ]
    },
    {
      "cell_type": "code",
      "execution_count": null,
      "metadata": {
        "colab": {
          "base_uri": "https://localhost:8080/"
        },
        "id": "qe1MPLIrUbqt",
        "outputId": "1b8f80c2-0cd2-414f-8c0b-1495c264a587"
      },
      "outputs": [
        {
          "name": "stdout",
          "output_type": "stream",
          "text": [
            "Mounted at /content/drive\n"
          ]
        }
      ],
      "source": [
        "from google.colab import drive\n",
        "drive.mount('/content/drive')"
      ]
    },
    {
      "cell_type": "code",
      "execution_count": null,
      "metadata": {
        "id": "2xiZ59-_n0Oa"
      },
      "outputs": [],
      "source": [
        "df = pd.read_csv('/content/tweets_suspect.csv')\n"
      ]
    },
    {
      "cell_type": "markdown",
      "metadata": {
        "id": "cv5FBB1oYvDc"
      },
      "source": [
        "#**Exploration de notre Dataset**\n",
        "Avant de procéder à la construction du modèle faisons d'abord une exploration de notre dataset afin d'avoir de bons insights et de mieux préparer les données"
      ]
    },
    {
      "cell_type": "code",
      "execution_count": null,
      "metadata": {
        "colab": {
          "base_uri": "https://localhost:8080/"
        },
        "id": "7pJ1Lt5xY3tR",
        "outputId": "3decece2-930c-4038-b85a-3ea4e85aaf4a"
      },
      "outputs": [
        {
          "name": "stdout",
          "output_type": "stream",
          "text": [
            "                                             message  label\n",
            "0  @switchfoot http://twitpic.com/2y1zl - Awww, t...      1\n",
            "1  is upset that he can't update his Facebook by ...      1\n",
            "2  @Kenichan I dived many times for the ball. Man...      1\n",
            "3    my whole body feels itchy and like its on fire       0\n",
            "4  @nationwideclass no, it's not behaving at all....      1\n"
          ]
        }
      ],
      "source": [
        "# Affichons les premières lignes et les informations générales\n",
        "print(df.head())\n"
      ]
    },
    {
      "cell_type": "code",
      "execution_count": null,
      "metadata": {
        "colab": {
          "base_uri": "https://localhost:8080/"
        },
        "id": "tIvj0V8lZGjq",
        "outputId": "0bc8c36b-9281-470e-85cb-7c745fbbdf5c"
      },
      "outputs": [
        {
          "name": "stdout",
          "output_type": "stream",
          "text": [
            "<class 'pandas.core.frame.DataFrame'>\n",
            "RangeIndex: 60000 entries, 0 to 59999\n",
            "Data columns (total 2 columns):\n",
            " #   Column   Non-Null Count  Dtype \n",
            "---  ------   --------------  ----- \n",
            " 0   message  60000 non-null  object\n",
            " 1   label    60000 non-null  int64 \n",
            "dtypes: int64(1), object(1)\n",
            "memory usage: 937.6+ KB\n",
            "None\n"
          ]
        }
      ],
      "source": [
        "# Affichons les informations numéraires de notre jeu de données\n",
        "print(df.info())"
      ]
    },
    {
      "cell_type": "code",
      "execution_count": null,
      "metadata": {
        "colab": {
          "base_uri": "https://localhost:8080/"
        },
        "id": "zk4QJjMnZYLo",
        "outputId": "58873e9e-841a-453e-cee1-0b62d8e9cb49"
      },
      "outputs": [
        {
          "name": "stdout",
          "output_type": "stream",
          "text": [
            "              label\n",
            "count  60000.000000\n",
            "mean       0.897583\n",
            "std        0.303198\n",
            "min        0.000000\n",
            "25%        1.000000\n",
            "50%        1.000000\n",
            "75%        1.000000\n",
            "max        1.000000\n"
          ]
        }
      ],
      "source": [
        "# Faisons une description statistique de notre jeu de données\n",
        "print(df.describe())"
      ]
    },
    {
      "cell_type": "code",
      "execution_count": null,
      "metadata": {
        "colab": {
          "base_uri": "https://localhost:8080/"
        },
        "id": "4VLJ0DisZrdN",
        "outputId": "1f8c5064-f0bc-41c4-f153-eb05696fac71"
      },
      "outputs": [
        {
          "name": "stdout",
          "output_type": "stream",
          "text": [
            "label\n",
            "1    0.897583\n",
            "0    0.102417\n",
            "Name: proportion, dtype: float64\n"
          ]
        }
      ],
      "source": [
        "# Calcul de la distribution des classes\n",
        "print(df['label'].value_counts(normalize=True))"
      ]
    },
    {
      "cell_type": "markdown",
      "metadata": {
        "id": "zxHsJcaJZz6p"
      },
      "source": [
        "Nous remarqu'on a un grand déséquilibre entre les deux classes\n",
        "\n",
        "*   Environ 89% des tweets sont jugés suspects\n",
        "*   Environ 10% des tweets sont jugés non suspects"
      ]
    },
    {
      "cell_type": "code",
      "execution_count": null,
      "metadata": {
        "colab": {
          "base_uri": "https://localhost:8080/",
          "height": 472
        },
        "id": "_dUrz7lxayKj",
        "outputId": "79233b41-d86b-449d-9c23-527f33277473"
      },
      "outputs": [
        {
          "data": {
            "image/png": "[encoded data removed]",
            "text/plain": [
              "<Figure size 640x480 with 1 Axes>"
            ]
          },
          "metadata": {},
          "output_type": "display_data"
        }
      ],
      "source": [
        "# Visualisons cette distribution avec un graphique\n",
        "import seaborn as sns\n",
        "import matplotlib.pyplot as plt\n",
        "\n",
        "sns.countplot(data=df, x='label')\n",
        "plt.title(\"Distribution des classes\")\n",
        "plt.xlabel(\"Label (0 = Non suspect, 1 = Suspect)\")\n",
        "plt.show()"
      ]
    },
    {
      "cell_type": "code",
      "execution_count": null,
      "metadata": {
        "colab": {
          "base_uri": "https://localhost:8080/",
          "height": 915
        },
        "id": "9mvfObFrbdXG",
        "outputId": "8eabd21a-130c-44db-fc1e-5a36db3022dc"
      },
      "outputs": [
        {
          "name": "stdout",
          "output_type": "stream",
          "text": [
            "Requirement already satisfied: textblob in /usr/local/lib/python3.10/dist-packages (0.17.1)\n",
            "Requirement already satisfied: nltk>=3.1 in /usr/local/lib/python3.10/dist-packages (from textblob) (3.9.1)\n",
            "Requirement already satisfied: click in /usr/local/lib/python3.10/dist-packages (from nltk>=3.1->textblob) (8.1.7)\n",
            "Requirement already satisfied: joblib in /usr/local/lib/python3.10/dist-packages (from nltk>=3.1->textblob) (1.4.2)\n",
            "Requirement already satisfied: regex>=2021.8.3 in /usr/local/lib/python3.10/dist-packages (from nltk>=3.1->textblob) (2024.9.11)\n",
            "Requirement already satisfied: tqdm in /usr/local/lib/python3.10/dist-packages (from nltk>=3.1->textblob) (4.66.6)\n",
            "[nltk_data] Downloading package brown to /root/nltk_data...\n",
            "[nltk_data]   Unzipping corpora/brown.zip.\n",
            "[nltk_data] Downloading package punkt to /root/nltk_data...\n",
            "[nltk_data]   Unzipping tokenizers/punkt.zip.\n",
            "[nltk_data] Downloading package wordnet to /root/nltk_data...\n",
            "[nltk_data] Downloading package averaged_perceptron_tagger to\n",
            "[nltk_data]     /root/nltk_data...\n",
            "[nltk_data]   Unzipping taggers/averaged_perceptron_tagger.zip.\n",
            "[nltk_data] Downloading package conll2000 to /root/nltk_data...\n",
            "[nltk_data]   Unzipping corpora/conll2000.zip.\n",
            "[nltk_data] Downloading package movie_reviews to /root/nltk_data...\n",
            "[nltk_data]   Unzipping corpora/movie_reviews.zip.\n",
            "Finished.\n"
          ]
        },
        {
          "data": {
            "image/png": "[encoded data removed]",
            "text/plain": [
              "<Figure size 1000x600 with 1 Axes>"
            ]
          },
          "metadata": {},
          "output_type": "display_data"
        }
      ],
      "source": [
        "# Analyse de la polarité et des sentiments\n",
        "!pip install textblob\n",
        "!python -m textblob.download_corpora\n",
        "\n",
        "from textblob import TextBlob\n",
        "\n",
        "# Fonction pour calculer la polarité\n",
        "df['polarity'] = df['message'].apply(lambda x: TextBlob(x).sentiment.polarity)\n",
        "\n",
        "# Visualisation de la polarité par classe\n",
        "plt.figure(figsize=(10, 6))\n",
        "sns.boxplot(data=df, x='label', y='polarity')\n",
        "plt.title(\"Distribution de la polarité des discours par classe\")\n",
        "plt.xlabel(\"Label (0 = Non suspect, 1 = Suspect)\")\n",
        "plt.ylabel(\"Polarité\")\n",
        "plt.show()\n"
      ]
    },
    {
      "cell_type": "markdown",
      "metadata": {
        "id": "AMRCbQO_LHql"
      },
      "source": [
        "Le graphique ci-dessus montre la distribution de la polarité des discours pour deux classes : non suspect (0) et suspect (1). Les discours non suspects ont une polarité centrée autour de zéro, reflétant une tonalité plutôt neutre. Les discours suspects, bien que similaires, présentent une plus grande variabilité avec une légère tendance vers des polarités plus négatives. Les outliers indiquent des discours très positifs ou négatifs dans chaque catégorie. Globalement, la polarité seule montre des différences limitées entre les deux classes"
      ]
    },
    {
      "cell_type": "code",
      "execution_count": null,
      "metadata": {
        "colab": {
          "base_uri": "https://localhost:8080/"
        },
        "id": "Zv46NjjicPq_",
        "outputId": "6f8be661-5a19-4a69-b413-0d9aac51f2a3"
      },
      "outputs": [
        {
          "name": "stdout",
          "output_type": "stream",
          "text": [
            "Bigrams et trigrams fréquents :\n",
            " ['bit ly' 'don know' 'don want' 'feel like' 'getting ready' 'going bed'\n",
            " 'good morning' 'good night' 'http bit' 'http bit ly' 'http tinyurl'\n",
            " 'http tinyurl com' 'http twitpic' 'http twitpic com' 'http www'\n",
            " 'just got' 'looking forward' 'looks like' 'tinyurl com' 'twitpic com']\n"
          ]
        }
      ],
      "source": [
        "from sklearn.feature_extraction.text import CountVectorizer\n",
        "\n",
        "# Identification des bigrammes\n",
        "vectorizer = CountVectorizer(ngram_range=(2, 3), max_features=20, stop_words='english')\n",
        "X_ngrams = vectorizer.fit_transform(df['message'])\n",
        "ngrams = vectorizer.get_feature_names_out()\n",
        "\n",
        "# Visualiser les bigrammes les plus fréquents\n",
        "print(\"Bigrams et trigrams fréquents :\\n\", ngrams)\n"
      ]
    },
    {
      "cell_type": "markdown",
      "metadata": {
        "id": "dXOZ7x7oc98s"
      },
      "source": [
        "#**PREPARATION DES DONNEES**"
      ]
    },
    {
      "cell_type": "markdown",
      "metadata": {
        "id": "0wwRQoUndGAS"
      },
      "source": [
        "##**Étape 1 : Nettoyage du texte**\n",
        "\n",
        "Le nettoyage des données textuelles est important pour éliminer les éléments inutiles et normaliser le texte."
      ]
    },
    {
      "cell_type": "code",
      "execution_count": null,
      "metadata": {
        "colab": {
          "base_uri": "https://localhost:8080/"
        },
        "id": "azPRacuVdK2s",
        "outputId": "2c7e5364-46d4-439f-ff8a-df4e9215d422"
      },
      "outputs": [
        {
          "name": "stdout",
          "output_type": "stream",
          "text": [
            "0    switchfoot a thats a bummer you shoulda got da...\n",
            "1    is upset that he cant update his facebook by t...\n",
            "2    kenichan i dived many times for the ball manag...\n",
            "3      my whole body feels itchy and like its on fire \n",
            "4    nationwideclass no its not behaving at all im ...\n",
            "Name: message, dtype: object\n"
          ]
        }
      ],
      "source": [
        "# Suppression des caractères spéciaux, des URLs, des nombres et des ponctuations\n",
        "import re\n",
        "\n",
        "def clean_text(text):\n",
        "    # Supprimer les URLs , des balises HTML\n",
        "    text = re.sub(r'http\\S+|www\\S+|https\\S+', '', text, flags=re.MULTILINE)\n",
        "    text = re.sub(r'<.*?>', '', text)\n",
        "\n",
        "    # Supprimer les caractères spéciaux et ponctuations\n",
        "    text = re.sub(r'\\@w+|\\#', '', text)\n",
        "    text = re.sub(r'[^\\w\\s]', '', text)\n",
        "    text = re.sub(r'[^a-zA-Z\\s]', '', text)\n",
        "    text = re.sub(r'\\s+', ' ', text)\n",
        "    # Supprimer les nombres\n",
        "    text = re.sub(r'\\d+', '', text)\n",
        "    # Convertir en minuscule\n",
        "    text = text.lower()\n",
        "    return text\n",
        "\n",
        "# Appliquer la fonction de nettoyage à chaque texte\n",
        "df['message'] = df['message'].apply(clean_text)\n",
        "print(df['message'].head())\n"
      ]
    },
    {
      "cell_type": "code",
      "execution_count": null,
      "metadata": {
        "colab": {
          "base_uri": "https://localhost:8080/"
        },
        "id": "9EWE-z0beKhg",
        "outputId": "a7422293-92be-4bb9-bef8-fa0f3344bf2c"
      },
      "outputs": [
        {
          "name": "stderr",
          "output_type": "stream",
          "text": [
            "[nltk_data] Downloading package stopwords to /root/nltk_data...\n",
            "[nltk_data]   Unzipping corpora/stopwords.zip.\n"
          ]
        },
        {
          "name": "stdout",
          "output_type": "stream",
          "text": [
            "0    switchfoot thats bummer shoulda got david carr...\n",
            "1    upset cant update facebook texting might cry r...\n",
            "2    kenichan dived many times ball managed save re...\n",
            "3                     whole body feels itchy like fire\n",
            "4             nationwideclass behaving im mad cant see\n",
            "Name: message, dtype: object\n"
          ]
        }
      ],
      "source": [
        "# Suppression des mots vides (stop words)\n",
        "from nltk.corpus import stopwords\n",
        "import nltk\n",
        "nltk.download('stopwords')\n",
        "\n",
        "stop_words = set(stopwords.words('english'))\n",
        "\n",
        "def remove_stopwords(text):\n",
        "    return \" \".join([word for word in text.split() if word not in stop_words])\n",
        "\n",
        "df['message'] = df['message'].apply(remove_stopwords)\n",
        "print(df['message'].head())\n"
      ]
    },
    {
      "cell_type": "markdown",
      "metadata": {
        "id": "6fmUioSeelAl"
      },
      "source": [
        "##**Étape 2 : Normalisation des mots avec lemmatisation**"
      ]
    },
    {
      "cell_type": "code",
      "execution_count": null,
      "metadata": {
        "colab": {
          "base_uri": "https://localhost:8080/"
        },
        "id": "Cbx9ufetervm",
        "outputId": "3830d0a8-ec8e-431d-da31-d2984dec1edd"
      },
      "outputs": [
        {
          "name": "stderr",
          "output_type": "stream",
          "text": [
            "[nltk_data] Downloading package punkt_tab to /root/nltk_data...\n",
            "[nltk_data]   Unzipping tokenizers/punkt_tab.zip.\n",
            "[nltk_data] Downloading package wordnet to /root/nltk_data...\n",
            "[nltk_data]   Package wordnet is already up-to-date!\n"
          ]
        },
        {
          "name": "stdout",
          "output_type": "stream",
          "text": [
            "0    switchfoot thats bummer shoulda got david carr...\n",
            "1    upset cant update facebook texting might cry r...\n",
            "2    kenichan dived many time ball managed save res...\n",
            "3                      whole body feel itchy like fire\n",
            "4             nationwideclass behaving im mad cant see\n",
            "Name: message, dtype: object\n"
          ]
        }
      ],
      "source": [
        "from nltk.stem import WordNetLemmatizer\n",
        "# Download 'punkt_tab' and 'wordnet' data packages\n",
        "nltk.download('punkt_tab')  # Download for sentence tokenization\n",
        "nltk.download('wordnet')  # Download for lemmatization\n",
        "\n",
        "lemmatizer = WordNetLemmatizer()\n",
        "\n",
        "def lemmatize_text(text):\n",
        "      tokens = nltk.word_tokenize(text)\n",
        "      lemmatized = [lemmatizer.lemmatize(token.lower()) for token in tokens]\n",
        "      return ' '.join(lemmatized)\n",
        "\n",
        "df['message'] = df['message'].apply(lemmatize_text)\n",
        "print(df['message'].head())\n",
        "\n"
      ]
    },
    {
      "cell_type": "markdown",
      "metadata": {
        "id": "ZgLkc6WtfFHF"
      },
      "source": [
        "##**Étape 3 : Analyse des n-grammes**"
      ]
    },
    {
      "cell_type": "code",
      "execution_count": null,
      "metadata": {
        "colab": {
          "base_uri": "https://localhost:8080/"
        },
        "id": "rHakawz0fZjj",
        "outputId": "c56bdc75-dd42-4cae-8350-e3a77dc48a41"
      },
      "outputs": [
        {
          "name": "stdout",
          "output_type": "stream",
          "text": [
            "Bigrams et trigrams fréquents :\n",
            " ['cant wait' 'dont know' 'dont want' 'feel like' 'getting ready' 'go back'\n",
            " 'gon na' 'good morning' 'good night' 'got ta' 'im going' 'im sorry'\n",
            " 'last day' 'last night' 'look like' 'looking forward' 'na go' 'wan na'\n",
            " 'want go' 'wish could']\n"
          ]
        }
      ],
      "source": [
        "from sklearn.feature_extraction.text import CountVectorizer\n",
        "\n",
        "# Convert stop_words to a list\n",
        "stop_words_list = list(stop_words)\n",
        "\n",
        "vectorizer = CountVectorizer(ngram_range=(2, 3), max_features=20, stop_words=stop_words_list) # Pass the list here\n",
        "X_ngrams = vectorizer.fit_transform(df['message'])\n",
        "\n",
        "# Visualiser les bigrams/trigrams les plus fréquents\n",
        "print(\"Bigrams et trigrams fréquents :\\n\", vectorizer.get_feature_names_out())"
      ]
    },
    {
      "cell_type": "markdown",
      "metadata": {
        "id": "X4LNdbRzfknp"
      },
      "source": [
        "#**Étape 4 : Embeddings: Vectorisation avec BERT**\n",
        "\n",
        "Ici, nous allons utilisé le mondèle de DistilBERT qui est un modèle dérivé de BERT, pour faire les représentations vectorielles des tweets. Nous utilisons ici DistilBERT car nous n'avons pas de ressources machine."
      ]
    },
    {
      "cell_type": "code",
      "execution_count": null,
      "metadata": {
        "colab": {
          "base_uri": "https://localhost:8080/",
          "height": 301,
          "referenced_widgets": [
            "081525c7467d421fbb3e9a0c6112b198",
            "396ce6c15767477a85254ecf298e1496",
            "5614614c6a2646179fd968f4625989b9",
            "adafab5d9e624997b941a0aa6da45548",
            "40b6a8ffd60a4907a0b256ae2a29c857",
            "a30cd5d9a3ad45b499fd0cfd94cf359f",
            "a490ee66fa6a4571aea0929125bc33fd",
            "98eea63b73264798941edcc3d4ea7aa1",
            "fd8a5b725755471f847983f31cb4400b",
            "965fc26b59964d43b72e9bfeeac9da1a",
            "f118f476b1f040ceba1f6956787eb441",
            "49bd94b2f6474136a1f91f0d3317a18e",
            "6881e2f4638141128cebf9133edd1574",
            "d71da338dcd04868a458d6687cd026dd",
            "69c09081301849f9af2ccf82d371803e",
            "09bff1e7286d43979b9bb25e1288a204",
            "a8c88bd4257646f48ca5c4e0c6a42541",
            "683b14908e9e4992893d81f2d34ce050",
            "78b4fc0b8725495d800a16c664ed5d55",
            "aa42a47f18f7401fb8cbec09f6072bd8",
            "f0ea26c087d54e56ba8d6eea9e080489",
            "2891de5648924881a8daf36b717b427f",
            "fa00dadec9bb4b1fa5fe29c219ebfab5",
            "d9e70a0ff9ce499cbc21f7111946beef",
            "72bb2d0b974c4490811dcc32350a4f83",
            "ae351992ea7d41c18e70f576af7ec3e0",
            "bba7915ebdf0441eb956711ef4af1f1f",
            "a7705c88e97f4f84b7d8f4c695f0eb84",
            "079c5f3173e84406a44fe8b2269f442d",
            "39430da622b84b908f6a40bf121f2cf4",
            "75987faa3d144012a0df5183fd1b0eeb",
            "5790091d6a07474aa86a0a63165d1297",
            "8af261d05e6e4f9a8b390dab99f8dd91",
            "5da5623b14ee4696a1fd8beb9a0ba7df",
            "ca932d61799b4604a6956eab6de081c0",
            "2e0c568613d94beeb80e6f848a81706c",
            "16608a7a94394e2eb206f5cf4180a22e",
            "edb11c11def8487da4dd8ddc61398776",
            "1ce3079697474e17a99b5233b5d5bbaa",
            "10322569c45544f2b9a97609d4f25134",
            "32616e37cac9459585b6cea17aae93de",
            "d2374a75a4764bebaba55942c0b1142a",
            "afae831215484db694aaaab4c1f3f69a",
            "b45adde839fc4694b56b0f51e803e662",
            "f3a848ef0c9f46b4b8201b9ba906fa97",
            "a7041ea58a9f467185fee2de97da6c60",
            "8c83eec5549644368fcca44ad9fac5c8",
            "6495db6fc7c24426ab9031e33f07d8a5",
            "6ca705c8e8304e2c860c1b17cc148dc8",
            "3fd8ab3c1e174e669358dd9f5e7f7695",
            "bf1abd0412504f64980234d99c48e045",
            "bc22b9d78c714148a2b2fb99c745812e",
            "3106afd05ed341c6a80028e22effe5ef",
            "cbdaf58235f241aeb378a16f92f1144e",
            "e7a5b657fc644125888a1bed546bb778"
          ]
        },
        "id": "sZDVYvpGfw15",
        "outputId": "b2bd1ca3-6945-4a05-b7c7-1c3be764f3ab"
      },
      "outputs": [
        {
          "name": "stderr",
          "output_type": "stream",
          "text": [
            "/usr/local/lib/python3.10/dist-packages/huggingface_hub/utils/_auth.py:94: UserWarning: \n",
            "The secret `HF_TOKEN` does not exist in your Colab secrets.\n",
            "To authenticate with the Hugging Face Hub, create a token in your settings tab (https://huggingface.co/settings/tokens), set it as secret in your Google Colab and restart your session.\n",
            "You will be able to reuse this secret in all of your notebooks.\n",
            "Please note that authentication is recommended but still optional to access public models or datasets.\n",
            "  warnings.warn(\n"
          ]
        },
        {
          "data": {
            "application/vnd.jupyter.widget-view+json": {
              "model_id": "081525c7467d421fbb3e9a0c6112b198",
              "version_major": 2,
              "version_minor": 0
            },
            "text/plain": [
              "tokenizer_config.json:   0%|          | 0.00/48.0 [00:00<?, ?B/s]"
            ]
          },
          "metadata": {},
          "output_type": "display_data"
        },
        {
          "data": {
            "application/vnd.jupyter.widget-view+json": {
              "model_id": "49bd94b2f6474136a1f91f0d3317a18e",
              "version_major": 2,
              "version_minor": 0
            },
            "text/plain": [
              "vocab.txt:   0%|          | 0.00/232k [00:00<?, ?B/s]"
            ]
          },
          "metadata": {},
          "output_type": "display_data"
        },
        {
          "data": {
            "application/vnd.jupyter.widget-view+json": {
              "model_id": "fa00dadec9bb4b1fa5fe29c219ebfab5",
              "version_major": 2,
              "version_minor": 0
            },
            "text/plain": [
              "tokenizer.json:   0%|          | 0.00/466k [00:00<?, ?B/s]"
            ]
          },
          "metadata": {},
          "output_type": "display_data"
        },
        {
          "data": {
            "application/vnd.jupyter.widget-view+json": {
              "model_id": "5da5623b14ee4696a1fd8beb9a0ba7df",
              "version_major": 2,
              "version_minor": 0
            },
            "text/plain": [
              "config.json:   0%|          | 0.00/483 [00:00<?, ?B/s]"
            ]
          },
          "metadata": {},
          "output_type": "display_data"
        },
        {
          "data": {
            "application/vnd.jupyter.widget-view+json": {
              "model_id": "f3a848ef0c9f46b4b8201b9ba906fa97",
              "version_major": 2,
              "version_minor": 0
            },
            "text/plain": [
              "model.safetensors:   0%|          | 0.00/268M [00:00<?, ?B/s]"
            ]
          },
          "metadata": {},
          "output_type": "display_data"
        }
      ],
      "source": [
        "from transformers import DistilBertTokenizer, DistilBertModel\n",
        "import torch\n",
        "\n",
        "model_name = \"distilbert-base-uncased\"\n",
        "tokenizer = DistilBertTokenizer.from_pretrained(model_name)\n",
        "model = DistilBertModel.from_pretrained(model_name)\n",
        "\n",
        "def encode_tweet(tweet):\n",
        "    inputs = tokenizer(tweet, return_tensors='pt', padding=True, truncation=True, max_length=128)\n",
        "    with torch.no_grad():\n",
        "        outputs = model(**inputs)\n",
        "    cls_embedding = outputs.last_hidden_state[:, 0, :].squeeze().numpy()\n",
        "    return cls_embedding"
      ]
    },
    {
      "cell_type": "code",
      "execution_count": null,
      "metadata": {
        "id": "oT3R66u3Z0QZ"
      },
      "outputs": [],
      "source": [
        "# Application de la fonction d'encodage sur la colonne 'message'\n",
        "df['embedding'] = df['message'].apply(encode_tweet)\n",
        "\n",
        "print(\"Embeddings générés.\")\n",
        "print(df['embedding'].head())"
      ]
    },
    {
      "cell_type": "markdown",
      "metadata": {
        "id": "8-zQrZ5jf6jj"
      },
      "source": [
        "##**Étape 5 : Traitement des classes déséquilibrées**\n",
        "\n",
        "Si les classes sont déséquilibrées, cela peut affecter les performances du modèle."
      ]
    },
    {
      "cell_type": "code",
      "execution_count": null,
      "metadata": {
        "colab": {
          "base_uri": "https://localhost:8080/"
        },
        "id": "dm0APHkFf7_b",
        "outputId": "d1c5c8ac-6ab2-4856-8589-c59d876fb51c"
      },
      "outputs": [
        {
          "name": "stdout",
          "output_type": "stream",
          "text": [
            "Requirement already satisfied: imbalanced-learn in /usr/local/lib/python3.10/dist-packages (0.12.4)\n",
            "Requirement already satisfied: numpy>=1.17.3 in /usr/local/lib/python3.10/dist-packages (from imbalanced-learn) (1.26.4)\n",
            "Requirement already satisfied: scipy>=1.5.0 in /usr/local/lib/python3.10/dist-packages (from imbalanced-learn) (1.13.1)\n",
            "Requirement already satisfied: scikit-learn>=1.0.2 in /usr/local/lib/python3.10/dist-packages (from imbalanced-learn) (1.0.2)\n",
            "Requirement already satisfied: joblib>=1.1.1 in /usr/local/lib/python3.10/dist-packages (from imbalanced-learn) (1.4.2)\n",
            "Requirement already satisfied: threadpoolctl>=2.0.0 in /usr/local/lib/python3.10/dist-packages (from imbalanced-learn) (3.5.0)\n",
            "Distribution des classes après sur-échantillonnage : label\n",
            "1    53855\n",
            "0    53855\n",
            "Name: count, dtype: int64\n"
          ]
        }
      ],
      "source": [
        "!pip install imbalanced-learn\n",
        "from imblearn.over_sampling import SMOTE\n",
        "X=df['embedding'].to_list()\n",
        "y = df['label']\n",
        "smote = SMOTE(random_state=42)\n",
        "X_resampled, y_resampled = smote.fit_resample(X,y)\n",
        "\n",
        "print(\"Distribution des classes après sur-échantillonnage :\", pd.Series(y_resampled).value_counts())\n"
      ]
    },
    {
      "cell_type": "markdown",
      "metadata": {
        "id": "E6TaeDtCgk1a"
      },
      "source": [
        "##**Étape 6 : Division des données en ensemble d'entraînement et de test**"
      ]
    },
    {
      "cell_type": "code",
      "execution_count": null,
      "metadata": {
        "colab": {
          "base_uri": "https://localhost:8080/"
        },
        "id": "LFWtJQ7MgpoB",
        "outputId": "0f2c7487-ec06-4540-c6f2-162b08108d21"
      },
      "outputs": [
        {
          "name": "stdout",
          "output_type": "stream",
          "text": [
            "Dimensions de l'ensemble d'entraînement : (86168, 768)\n",
            "Dimensions de l'ensemble de test : (21542, 768)\n"
          ]
        }
      ],
      "source": [
        "from sklearn.model_selection import train_test_split\n",
        "import numpy as np\n",
        "\n",
        "# Division des données en ensembles d'entraînement et de test\n",
        "X_train, X_test, y_train, y_test = train_test_split(np.array(X_resampled), y_resampled, test_size=0.2, random_state=42)\n",
        "\n",
        "print(\"Dimensions de l'ensemble d'entraînement :\", X_train.shape)\n",
        "print(\"Dimensions de l'ensemble de test :\", X_test.shape)\n"
      ]
    },
    {
      "cell_type": "markdown",
      "metadata": {
        "id": "-h4HSXMthlmR"
      },
      "source": [
        "#**Entraînement des différents modèles de classification**"
      ]
    },
    {
      "cell_type": "markdown",
      "metadata": {
        "id": "x6qfGc6qho2T"
      },
      "source": [
        "##**Régression Logistique**"
      ]
    },
    {
      "cell_type": "code",
      "execution_count": null,
      "metadata": {
        "colab": {
          "base_uri": "https://localhost:8080/"
        },
        "id": "ld56pCDthzx_",
        "outputId": "b6376bce-c0b6-4d0a-d4b7-bf07a9b2569f"
      },
      "outputs": [
        {
          "name": "stderr",
          "output_type": "stream",
          "text": [
            "/usr/local/lib/python3.10/dist-packages/sklearn/linear_model/_logistic.py:814: ConvergenceWarning: lbfgs failed to converge (status=1):\n",
            "STOP: TOTAL NO. of ITERATIONS REACHED LIMIT.\n",
            "\n",
            "Increase the number of iterations (max_iter) or scale the data as shown in:\n",
            "    https://scikit-learn.org/stable/modules/preprocessing.html\n",
            "Please also refer to the documentation for alternative solver options:\n",
            "    https://scikit-learn.org/stable/modules/linear_model.html#logistic-regression\n",
            "  n_iter_i = _check_optimize_result(\n"
          ]
        },
        {
          "name": "stdout",
          "output_type": "stream",
          "text": [
            "Régression Logistique avec Normalisation - Rapport de classification :\n",
            "               precision    recall  f1-score   support\n",
            "\n",
            "           0       0.79      0.81      0.80     10709\n",
            "           1       0.81      0.79      0.80     10833\n",
            "\n",
            "    accuracy                           0.80     21542\n",
            "   macro avg       0.80      0.80      0.80     21542\n",
            "weighted avg       0.80      0.80      0.80     21542\n",
            "\n",
            "Régression Logistique avec Normalisation - Précision :  0.7997400427072695\n"
          ]
        }
      ],
      "source": [
        "f1_scores = {}\n",
        "from sklearn.preprocessing import StandardScaler\n",
        "from sklearn.linear_model import LogisticRegression\n",
        "from sklearn.pipeline import make_pipeline\n",
        "from sklearn.metrics import f1_score\n",
        "\n",
        "# Créer un pipeline pour la normalisation\n",
        "log_reg_pipeline = make_pipeline(StandardScaler(with_mean=False), LogisticRegression(max_iter=1000, class_weight='balanced'))\n",
        "\n",
        "# Entraîner le modèle\n",
        "log_reg_pipeline.fit(X_train, y_train)\n",
        "\n",
        "# Évaluation\n",
        "y_pred_log_reg = log_reg_pipeline.predict(X_test)\n",
        "\n",
        "f1_log_reg = f1_score(y_test, y_pred_log_reg, average='weighted')\n",
        "f1_scores['Logistic Regression'] = f1_log_reg\n",
        "\n",
        "from sklearn.metrics import classification_report, accuracy_score\n",
        "print(\"Régression Logistique avec Normalisation - Rapport de classification :\\n\", classification_report(y_test, y_pred_log_reg))\n",
        "print(\"Régression Logistique avec Normalisation - Précision : \", accuracy_score(y_test, y_pred_log_reg))"
      ]
    },
    {
      "cell_type": "markdown",
      "metadata": {
        "id": "5ZzAePOlh8d9"
      },
      "source": [
        "##**Support Vector Machine (SVM)**"
      ]
    },
    {
      "cell_type": "code",
      "execution_count": null,
      "metadata": {
        "colab": {
          "background_save": true
        },
        "id": "wnDf_ZvKiAYT",
        "outputId": "2745871c-f673-416a-9a5f-453ee323ccb5"
      },
      "outputs": [
        {
          "name": "stdout",
          "output_type": "stream",
          "text": [
            "SVM - Rapport de classification :\n",
            "               precision    recall  f1-score   support\n",
            "\n",
            "           0       0.86      0.85      0.86     10709\n",
            "           1       0.86      0.87      0.86     10833\n",
            "\n",
            "    accuracy                           0.86     21542\n",
            "   macro avg       0.86      0.86      0.86     21542\n",
            "weighted avg       0.86      0.86      0.86     21542\n",
            "\n",
            "SVM - Précision :  0.8607371646086714\n"
          ]
        }
      ],
      "source": [
        "from sklearn.svm import SVC\n",
        "\n",
        "# Entraîner le modèle SVM\n",
        "svm_model = SVC(class_weight='balanced')\n",
        "svm_model.fit(X_train, y_train)\n",
        "\n",
        "# Prédictions et évaluation\n",
        "y_pred_svm = svm_model.predict(X_test)\n",
        "\n",
        "f1_svm = f1_score(y_test, y_pred_svm, average='weighted')\n",
        "f1_scores['SVM'] = f1_svm\n",
        "\n",
        "print(\"SVM - Rapport de classification :\\n\", classification_report(y_test, y_pred_svm))\n",
        "print(\"SVM - Précision : \", accuracy_score(y_test, y_pred_svm))\n"
      ]
    },
    {
      "cell_type": "markdown",
      "metadata": {
        "id": "Pmyn1RgHsEqx"
      },
      "source": [
        "##**Random Forest**"
      ]
    },
    {
      "cell_type": "code",
      "execution_count": null,
      "metadata": {
        "colab": {
          "base_uri": "https://localhost:8080/"
        },
        "id": "Wc9hLgBpsGYo",
        "outputId": "702344f0-82ba-44e0-d25f-b9ea877e7e8b"
      },
      "outputs": [
        {
          "name": "stdout",
          "output_type": "stream",
          "text": [
            "Random Forest - Rapport de classification :\n",
            "               precision    recall  f1-score   support\n",
            "\n",
            "           0       0.95      0.97      0.96     10709\n",
            "           1       0.97      0.95      0.96     10833\n",
            "\n",
            "    accuracy                           0.96     21542\n",
            "   macro avg       0.96      0.96      0.96     21542\n",
            "weighted avg       0.96      0.96      0.96     21542\n",
            "\n",
            "Random Forest - Précision :  0.9578962027666883\n"
          ]
        }
      ],
      "source": [
        "from sklearn.ensemble import RandomForestClassifier\n",
        "\n",
        "# Entraîner le modèle Random Forest\n",
        "rf_model = RandomForestClassifier(n_estimators=100, class_weight='balanced', random_state=42)\n",
        "rf_model.fit(X_train, y_train)\n",
        "\n",
        "# Prédictions et évaluation\n",
        "y_pred_rf = rf_model.predict(X_test)\n",
        "\n",
        "f1_rf = f1_score(y_test, y_pred_rf, average='weighted')\n",
        "f1_scores['Random Forest'] = f1_rf\n",
        "\n",
        "print(\"Random Forest - Rapport de classification :\\n\", classification_report(y_test, y_pred_rf))\n",
        "print(\"Random Forest - Précision : \", accuracy_score(y_test, y_pred_rf))\n"
      ]
    },
    {
      "cell_type": "markdown",
      "metadata": {
        "id": "nStRhHYYx9v9"
      },
      "source": [
        "##**Arbre de Décision**\n",
        "\n"
      ]
    },
    {
      "cell_type": "code",
      "execution_count": null,
      "metadata": {
        "colab": {
          "base_uri": "https://localhost:8080/"
        },
        "id": "tYNDv15IyI5D",
        "outputId": "afbc4abd-ee52-4b6c-c8f3-5d2bbf9fc409"
      },
      "outputs": [
        {
          "name": "stdout",
          "output_type": "stream",
          "text": [
            "Arbre de Décision - Rapport de classification :\n",
            "               precision    recall  f1-score   support\n",
            "\n",
            "           0       0.69      0.85      0.76     10709\n",
            "           1       0.81      0.61      0.70     10833\n",
            "\n",
            "    accuracy                           0.73     21542\n",
            "   macro avg       0.75      0.73      0.73     21542\n",
            "weighted avg       0.75      0.73      0.73     21542\n",
            "\n",
            "Arbre de Décision - Précision :  0.7314084114752576\n"
          ]
        }
      ],
      "source": [
        "from sklearn.tree import DecisionTreeClassifier\n",
        "\n",
        "# Entraîner l'arbre de décision avec une profondeur maximale pour limiter le surapprentissage\n",
        "decision_tree = DecisionTreeClassifier(max_depth=10, class_weight='balanced', random_state=42)\n",
        "decision_tree.fit(X_train, y_train)\n",
        "\n",
        "# Prédictions et évaluation\n",
        "y_pred_tree = decision_tree.predict(X_test)\n",
        "\n",
        "f1_tree = f1_score(y_test, y_pred_tree, average='weighted')\n",
        "f1_scores['Decision Tree'] = f1_tree\n",
        "\n",
        "print(\"Arbre de Décision - Rapport de classification :\\n\", classification_report(y_test, y_pred_tree))\n",
        "print(\"Arbre de Décision - Précision : \", accuracy_score(y_test, y_pred_tree))\n"
      ]
    },
    {
      "cell_type": "markdown",
      "metadata": {
        "id": "NkU1zmFFyRSs"
      },
      "source": [
        "##**K-Nearest Neighbors (KNN)**\n",
        "\n"
      ]
    },
    {
      "cell_type": "code",
      "execution_count": null,
      "metadata": {
        "colab": {
          "base_uri": "https://localhost:8080/"
        },
        "id": "WPAy83_KyX4j",
        "outputId": "9a257498-09d5-4c91-8665-02da45d245f0"
      },
      "outputs": [
        {
          "name": "stdout",
          "output_type": "stream",
          "text": [
            "KNN - Rapport de classification :\n",
            "               precision    recall  f1-score   support\n",
            "\n",
            "           0       0.72      0.97      0.83     10709\n",
            "           1       0.96      0.62      0.75     10833\n",
            "\n",
            "    accuracy                           0.80     21542\n",
            "   macro avg       0.84      0.80      0.79     21542\n",
            "weighted avg       0.84      0.80      0.79     21542\n",
            "\n",
            "KNN - Précision :  0.796119208987095\n"
          ]
        }
      ],
      "source": [
        "from sklearn.neighbors import KNeighborsClassifier\n",
        "from sklearn.preprocessing import StandardScaler\n",
        "from sklearn.pipeline import make_pipeline\n",
        "\n",
        "# Créer un pipeline avec normalisation et KNN\n",
        "knn_pipeline = make_pipeline(StandardScaler(with_mean=False), KNeighborsClassifier(n_neighbors=5))\n",
        "\n",
        "# Entraîner le modèle KNN\n",
        "knn_pipeline.fit(X_train, y_train)\n",
        "\n",
        "# Prédictions et évaluation\n",
        "y_pred_knn = knn_pipeline.predict(X_test)\n",
        "\n",
        "f1_knn = f1_score(y_test, y_pred_knn, average='weighted')\n",
        "f1_scores['KNN'] = f1_knn\n",
        "\n",
        "print(\"KNN - Rapport de classification :\\n\", classification_report(y_test, y_pred_knn))\n",
        "print(\"KNN - Précision : \", accuracy_score(y_test, y_pred_knn))"
      ]
    },
    {
      "cell_type": "markdown",
      "metadata": {
        "id": "xm-fBwy7yjnG"
      },
      "source": [
        "##**XGBoost**\n",
        "\n"
      ]
    },
    {
      "cell_type": "code",
      "execution_count": null,
      "metadata": {
        "colab": {
          "base_uri": "https://localhost:8080/"
        },
        "id": "CVId3RBPywdy",
        "outputId": "7855821e-f377-426b-812f-77f8b216e007"
      },
      "outputs": [
        {
          "name": "stdout",
          "output_type": "stream",
          "text": [
            "Collecting xgboost\n",
            "  Downloading xgboost-2.1.2-py3-none-manylinux_2_28_x86_64.whl.metadata (2.1 kB)\n",
            "Requirement already satisfied: numpy in /usr/local/lib/python3.10/dist-packages (from xgboost) (1.26.4)\n",
            "Collecting nvidia-nccl-cu12 (from xgboost)\n",
            "  Downloading nvidia_nccl_cu12-2.23.4-py3-none-manylinux2014_x86_64.whl.metadata (1.8 kB)\n",
            "Requirement already satisfied: scipy in /usr/local/lib/python3.10/dist-packages (from xgboost) (1.13.1)\n",
            "Downloading xgboost-2.1.2-py3-none-manylinux_2_28_x86_64.whl (153.9 MB)\n",
            "\u001b[2K   \u001b[90m━━━━━━━━━━━━━━━━━━━━━━━━━━━━━━━━━━━━━━━━\u001b[0m \u001b[32m153.9/153.9 MB\u001b[0m \u001b[31m6.8 MB/s\u001b[0m eta \u001b[36m0:00:00\u001b[0m\n",
            "\u001b[?25hDownloading nvidia_nccl_cu12-2.23.4-py3-none-manylinux2014_x86_64.whl (199.0 MB)\n",
            "\u001b[2K   \u001b[90m━━━━━━━━━━━━━━━━━━━━━━━━━━━━━━━━━━━━━━━━\u001b[0m \u001b[32m199.0/199.0 MB\u001b[0m \u001b[31m5.4 MB/s\u001b[0m eta \u001b[36m0:00:00\u001b[0m\n",
            "\u001b[?25hInstalling collected packages: nvidia-nccl-cu12, xgboost\n",
            "Successfully installed nvidia-nccl-cu12-2.23.4 xgboost-2.1.2\n"
          ]
        },
        {
          "name": "stderr",
          "output_type": "stream",
          "text": [
            "/usr/local/lib/python3.10/dist-packages/xgboost/core.py:158: UserWarning: [11:20:29] WARNING: /workspace/src/learner.cc:740: \n",
            "Parameters: { \"use_label_encoder\" } are not used.\n",
            "\n",
            "  warnings.warn(smsg, UserWarning)\n"
          ]
        },
        {
          "name": "stdout",
          "output_type": "stream",
          "text": [
            "XGBoost - Rapport de classification :\n",
            "               precision    recall  f1-score   support\n",
            "\n",
            "           0       0.99      0.87      0.92     10709\n",
            "           1       0.88      0.99      0.93     10833\n",
            "\n",
            "    accuracy                           0.93     21542\n",
            "   macro avg       0.94      0.93      0.93     21542\n",
            "weighted avg       0.94      0.93      0.93     21542\n",
            "\n",
            "XGBoost - Précision :  0.9297186890725095\n"
          ]
        }
      ],
      "source": [
        "!pip install xgboost\n",
        "from xgboost import XGBClassifier\n",
        "\n",
        "# Entraîner le modèle XGBoost avec un équilibrage des classes\n",
        "xgb_model = XGBClassifier(scale_pos_weight=len(y_train[y_train == 0]) / len(y_train[y_train == 1]), use_label_encoder=False, eval_metric='logloss')\n",
        "xgb_model.fit(X_train, y_train)\n",
        "\n",
        "# Prédictions et évaluation\n",
        "y_pred_xgb = xgb_model.predict(X_test)\n",
        "\n",
        "f1_xgb = f1_score(y_test, y_pred_xgb, average='weighted')\n",
        "f1_scores['XGBoost'] = f1_xgb\n",
        "\n",
        "print(\"XGBoost - Rapport de classification :\\n\", classification_report(y_test, y_pred_xgb))\n",
        "print(\"XGBoost - Précision : \", accuracy_score(y_test, y_pred_xgb))\n"
      ]
    },
    {
      "cell_type": "markdown",
      "metadata": {
        "id": "0uUKDr7g6ZB8"
      },
      "source": [
        "#**Comparaison de nos modèles**"
      ]
    },
    {
      "cell_type": "markdown",
      "metadata": {
        "id": "ltgKVLOx96AU"
      },
      "source": [
        "# #**Evalutaion du modèle SVM**\n",
        "\n"
      ]
    },
    {
      "cell_type": "code",
      "execution_count": null,
      "metadata": {
        "id": "xMgHVR3CBHP9"
      },
      "outputs": [],
      "source": [
        "plt.figure(figsize=(10, 6))\n",
        "plt.bar(f1_scores.keys(), f1_scores.values(), color=['blue', 'orange', 'green', 'red', 'purple'])\n",
        "plt.xlabel('Modèles')\n",
        "plt.ylabel('F1-Score')\n",
        "plt.title('Comparaison des F1-Scores pour chaque Modèle')\n",
        "plt.ylim(0, 1)  # Limiter l'axe y entre 0 et 1\n",
        "plt.xticks(rotation=45)\n",
        "plt.show()"
      ]
    },
    {
      "cell_type": "code",
      "execution_count": null,
      "metadata": {
        "colab": {
          "base_uri": "https://localhost:8080/",
          "height": 983
        },
        "id": "zdt7qXE4-wtr",
        "outputId": "ae2be56a-5b68-4096-84a3-6b4ed2bc6e91"
      },
      "outputs": [
        {
          "data": {
            "image/png": "[encoded data removed]",
            "text/plain": [
              "<Figure size 640x480 with 2 Axes>"
            ]
          },
          "metadata": {},
          "output_type": "display_data"
        },
        {
          "name": "stderr",
          "output_type": "stream",
          "text": [
            "/usr/local/lib/python3.10/dist-packages/sklearn/utils/deprecation.py:87: FutureWarning: Function plot_roc_curve is deprecated; Function :func:`plot_roc_curve` is deprecated in 1.0 and will be removed in 1.2. Use one of the class methods: :meth:`sklearn.metric.RocCurveDisplay.from_predictions` or :meth:`sklearn.metric.RocCurveDisplay.from_estimator`.\n",
            "  warnings.warn(msg, category=FutureWarning)\n"
          ]
        },
        {
          "data": {
            "image/png": "[encoded data removed]",
            "text/plain": [
              "<Figure size 640x480 with 1 Axes>"
            ]
          },
          "metadata": {},
          "output_type": "display_data"
        }
      ],
      "source": [
        "from sklearn.metrics import confusion_matrix, roc_auc_score, plot_roc_curve\n",
        "import matplotlib.pyplot as plt\n",
        "\n",
        "# Matrice de confusion\n",
        "cm = confusion_matrix(y_test, y_pred_svm)\n",
        "sns.heatmap(cm, annot=True, fmt=\"d\")\n",
        "plt.title(\"Matrice de confusion\")\n",
        "plt.xlabel(\"Prédictions\")\n",
        "plt.ylabel(\"Réel\")\n",
        "plt.show()\n",
        "\n",
        "# Courbe ROC-AUC\n",
        "plot_roc_curve(svm_model, X_test, y_test)\n",
        "plt.title(\"Courbe ROC-AUC\")\n",
        "plt.show()\n"
      ]
    },
    {
      "cell_type": "markdown",
      "metadata": {
        "id": "i8pVj6QeQR70"
      },
      "source": [
        "# **Amélioration du modèle SVM**\n",
        "\n"
      ]
    },
    {
      "cell_type": "markdown",
      "metadata": {
        "id": "CgQ7yNixQe72"
      },
      "source": [
        "## **Ajuster les Hyperparamètres avec Grid Search**"
      ]
    },
    {
      "cell_type": "code",
      "execution_count": null,
      "metadata": {
        "id": "wtTecEst1GtH"
      },
      "outputs": [],
      "source": [
        "from sklearn.model_selection import RandomizedSearchCV\n",
        "from sklearn.svm import SVC\n",
        "import scipy.stats as stats\n",
        "\n",
        "from sklearn.model_selection import train_test_split\n",
        "\n",
        "# Utiliser une sous-partie de l'ensemble d'entraînement (par exemple, 30 %)\n",
        "X_train_sub, _, y_train_sub, _ = train_test_split(X_train, y_train, train_size=0.3, random_state=42)\n",
        "\n",
        "\n",
        "# Configurer la Randomized Search avec une distribution de paramètres\n",
        "param_dist = {\n",
        "    'C': stats.uniform(0.1, 100),    # Distribution continue pour C\n",
        "    'kernel': ['linear', 'rbf', 'poly'],\n",
        "    'gamma': stats.uniform(0.001, 1) # Distribution continue pour gamma\n",
        "}\n",
        "\n",
        "# Randomized Search avec 10 combinaisons et validation croisée\n",
        "random_search = RandomizedSearchCV(SVC(class_weight='balanced'), param_distributions=param_dist, n_iter=10, cv=3, scoring='f1', random_state=42)\n",
        "\n",
        "# Entraîner la Randomized Search\n",
        "random_search.fit(X_train, y_train)\n",
        "\n",
        "# Meilleures hyperparamètres\n",
        "print(\"Meilleurs hyperparamètres SVM (Randomized Search) :\", random_search.best_params_)\n",
        "best_svm_model = random_search.best_estimator_\n"
      ]
    },
    {
      "cell_type": "code",
      "execution_count": null,
      "metadata": {
        "id": "McUPD85cQlPV"
      },
      "outputs": [],
      "source": [
        "from sklearn.model_selection import GridSearchCV\n",
        "\n",
        "# Définir la grille de paramètres\n",
        "param_grid = {\n",
        "    'C': [0.1, 1, 10, 100],\n",
        "    'kernel': ['linear', 'rbf', 'poly'],\n",
        "    'gamma': [0.001, 0.01, 0.1, 1]\n",
        "}\n",
        "\n",
        "# Configurer la Grid Search avec validation croisée\n",
        "grid_search = GridSearchCV(SVC(class_weight='balanced'), param_grid, cv=5, scoring='f1')\n",
        "\n",
        "# Entraîner la recherche\n",
        "grid_search.fit(X_train, y_train)\n",
        "\n",
        "# Meilleures hyperparamètres\n",
        "print(\"Meilleures hyperparamètres SVM :\", grid_search.best_params_)\n",
        "best_svm_model = grid_search.best_estimator_\n"
      ]
    },
    {
      "cell_type": "markdown",
      "metadata": {
        "id": "1ajp4V6vSBFQ"
      },
      "source": [
        "## **Essayer un Search Space plus Fin**"
      ]
    },
    {
      "cell_type": "code",
      "execution_count": null,
      "metadata": {
        "id": "yfz_o3wPSeuO"
      },
      "outputs": [],
      "source": [
        "# Affiner la grille de recherche\n",
        "fine_param_grid = {\n",
        "    'C': [5, 10, 15],\n",
        "    'kernel': ['rbf'],\n",
        "    'gamma': [0.005, 0.01, 0.05]\n",
        "}\n",
        "\n",
        "fine_grid_search = GridSearchCV(SVC(class_weight='balanced'), fine_param_grid, cv=5, scoring='f1')\n",
        "fine_grid_search.fit(X_train, y_train)\n",
        "print(\"Meilleures hyperparamètres après ajustement fin :\", fine_grid_search.best_params_)"
      ]
    },
    {
      "cell_type": "markdown",
      "metadata": {
        "id": "8Fl2Wo32Sw-H"
      },
      "source": [
        "## **Utiliser une Validation Croisée plus Grande pour Affiner la Sélection**"
      ]
    },
    {
      "cell_type": "code",
      "execution_count": null,
      "metadata": {
        "id": "Y88TGjtIS05J"
      },
      "outputs": [],
      "source": [
        "# Refaire la Grid Search avec une validation croisée à 10 segments\n",
        "grid_search_10fold = GridSearchCV(SVC(class_weight='balanced'), fine_param_grid, cv=10, scoring='f1')\n",
        "grid_search_10fold.fit(X_train, y_train)\n",
        "print(\"Résultat final d'optimisation (10-fold CV) :\", grid_search_10fold.best_params_)\n"
      ]
    },
    {
      "cell_type": "markdown",
      "metadata": {
        "id": "rhGJfCYVTcQs"
      },
      "source": [
        "## **Évaluation Finale et Visualisation des Performances**"
      ]
    },
    {
      "cell_type": "code",
      "execution_count": null,
      "metadata": {
        "id": "8UJGTe1cTgLG"
      },
      "outputs": [],
      "source": [
        "# Évaluer le modèle optimisé sur le test set\n",
        "y_pred_optimized = grid_search_10fold.predict(X_test)\n",
        "\n",
        "from sklearn.metrics import classification_report, confusion_matrix\n",
        "\n",
        "print(\"Rapport de classification pour le SVM optimisé :\\n\", classification_report(y_test, y_pred_optimized))\n",
        "\n",
        "# Matrice de confusion pour mieux visualiser les erreurs\n",
        "import seaborn as sns\n",
        "import matplotlib.pyplot as plt\n",
        "\n",
        "cm = confusion_matrix(y_test, y_pred_optimized)\n",
        "sns.heatmap(cm, annot=True, fmt=\"d\")\n",
        "plt.title(\"Matrice de confusion - SVM optimisé\")\n",
        "plt.xlabel(\"Prédictions\")\n",
        "plt.ylabel(\"Réel\")\n",
        "plt.show()\n"
      ]
    },
    {
      "cell_type": "markdown",
      "source": [
        "## Création du fichier requirement"
      ],
      "metadata": {
        "id": "-TQesZ1vTp1f"
      }
    },
    {
      "cell_type": "code",
      "source": [
        "!pip install pipreqs==0.4.11"
      ],
      "metadata": {
        "colab": {
          "base_uri": "https://localhost:8080/"
        },
        "id": "mX0-8jI0cHlZ",
        "outputId": "eb91fb78-f886-4a09-ff76-43a5a727daa5"
      },
      "execution_count": null,
      "outputs": [
        {
          "output_type": "stream",
          "name": "stdout",
          "text": [
            "Requirement already satisfied: pipreqs==0.4.11 in /usr/local/lib/python3.10/dist-packages (0.4.11)\n",
            "Requirement already satisfied: docopt in /usr/local/lib/python3.10/dist-packages (from pipreqs==0.4.11) (0.6.2)\n",
            "Requirement already satisfied: yarg in /usr/local/lib/python3.10/dist-packages (from pipreqs==0.4.11) (0.1.10)\n",
            "Requirement already satisfied: requests in /usr/local/lib/python3.10/dist-packages (from yarg->pipreqs==0.4.11) (2.32.3)\n",
            "Requirement already satisfied: charset-normalizer<4,>=2 in /usr/local/lib/python3.10/dist-packages (from requests->yarg->pipreqs==0.4.11) (3.4.0)\n",
            "Requirement already satisfied: idna<4,>=2.5 in /usr/local/lib/python3.10/dist-packages (from requests->yarg->pipreqs==0.4.11) (3.10)\n",
            "Requirement already satisfied: urllib3<3,>=1.21.1 in /usr/local/lib/python3.10/dist-packages (from requests->yarg->pipreqs==0.4.11) (2.2.3)\n",
            "Requirement already satisfied: certifi>=2017.4.17 in /usr/local/lib/python3.10/dist-packages (from requests->yarg->pipreqs==0.4.11) (2024.8.30)\n"
          ]
        }
      ]
    },
    {
      "cell_type": "code",
      "source": [
        "!pipreqs /content/process_v_sogo.ipynb --force"
      ],
      "metadata": {
        "colab": {
          "base_uri": "https://localhost:8080/"
        },
        "id": "YeSRfOercL5Y",
        "outputId": "eb6a62b2-a0a6-458c-aa48-8dc7a7941b5b"
      },
      "execution_count": null,
      "outputs": [
        {
          "output_type": "stream",
          "name": "stdout",
          "text": [
            "Traceback (most recent call last):\n",
            "  File \"/usr/local/bin/pipreqs\", line 8, in <module>\n",
            "    sys.exit(main())\n",
            "  File \"/usr/local/lib/python3.10/dist-packages/pipreqs/pipreqs.py\", line 488, in main\n",
            "    init(args)\n",
            "  File \"/usr/local/lib/python3.10/dist-packages/pipreqs/pipreqs.py\", line 478, in init\n",
            "    generate_requirements_file(path, imports, symbol)\n",
            "  File \"/usr/local/lib/python3.10/dist-packages/pipreqs/pipreqs.py\", line 157, in generate_requirements_file\n",
            "    with _open(path, \"w\") as out_file:\n",
            "  File \"/usr/lib/python3.10/contextlib.py\", line 135, in __enter__\n",
            "    return next(self.gen)\n",
            "  File \"/usr/local/lib/python3.10/dist-packages/pipreqs/pipreqs.py\", line 81, in _open\n",
            "    file = open(filename, mode)\n",
            "FileNotFoundError: [Errno 2] No such file or directory: '/content/process_v_sogo.ipynb/requirements.txt'\n",
            "Traceback (most recent call last):\n",
            "  File \"/usr/local/bin/pipreqs\", line 8, in <module>\n",
            "    sys.exit(main())\n",
            "  File \"/usr/local/lib/python3.10/dist-packages/pipreqs/pipreqs.py\", line 488, in main\n",
            "    init(args)\n",
            "  File \"/usr/local/lib/python3.10/dist-packages/pipreqs/pipreqs.py\", line 478, in init\n",
            "    generate_requirements_file(path, imports, symbol)\n",
            "  File \"/usr/local/lib/python3.10/dist-packages/pipreqs/pipreqs.py\", line 157, in generate_requirements_file\n",
            "    with _open(path, \"w\") as out_file:\n",
            "  File \"/usr/lib/python3.10/contextlib.py\", line 135, in __enter__\n",
            "    return next(self.gen)\n",
            "  File \"/usr/local/lib/python3.10/dist-packages/pipreqs/pipreqs.py\", line 81, in _open\n",
            "    file = open(filename, mode)\n",
            "FileNotFoundError: [Errno 2] No such file or directory: '/content/process_v_sogo.ipynb/requirements.txt'\n"
          ]
        }
      ]
    },
    {
      "cell_type": "code",
      "source": [],
      "metadata": {
        "id": "3RJsM5v8TTqv"
      },
      "execution_count": null,
      "outputs": []
    }
  ],
  "metadata": {
    "colab": {
      "provenance": [],
      "include_colab_link": true
    },
    "kernelspec": {
      "display_name": "Python 3",
      "name": "python3"
    },
    "language_info": {
      "name": "python"
    },
    "widgets": {
      "application/vnd.jupyter.widget-state+json": {
        "079c5f3173e84406a44fe8b2269f442d": {
          "model_module": "@jupyter-widgets/controls",
          "model_module_version": "1.5.0",
          "model_name": "DescriptionStyleModel",
          "state": {
            "_model_module": "@jupyter-widgets/controls",
            "_model_module_version": "1.5.0",
            "_model_name": "DescriptionStyleModel",
            "_view_count": null,
            "_view_module": "@jupyter-widgets/base",
            "_view_module_version": "1.2.0",
            "_view_name": "StyleView",
            "description_width": ""
          }
        },
        "081525c7467d421fbb3e9a0c6112b198": {
          "model_module": "@jupyter-widgets/controls",
          "model_module_version": "1.5.0",
          "model_name": "HBoxModel",
          "state": {
            "_dom_classes": [],
            "_model_module": "@jupyter-widgets/controls",
            "_model_module_version": "1.5.0",
            "_model_name": "HBoxModel",
            "_view_count": null,
            "_view_module": "@jupyter-widgets/controls",
            "_view_module_version": "1.5.0",
            "_view_name": "HBoxView",
            "box_style": "",
            "children": [
              "IPY_MODEL_396ce6c15767477a85254ecf298e1496",
              "IPY_MODEL_5614614c6a2646179fd968f4625989b9",
              "IPY_MODEL_adafab5d9e624997b941a0aa6da45548"
            ],
            "layout": "IPY_MODEL_40b6a8ffd60a4907a0b256ae2a29c857"
          }
        },
        "09bff1e7286d43979b9bb25e1288a204": {
          "model_module": "@jupyter-widgets/base",
          "model_module_version": "1.2.0",
          "model_name": "LayoutModel",
          "state": {
            "_model_module": "@jupyter-widgets/base",
            "_model_module_version": "1.2.0",
            "_model_name": "LayoutModel",
            "_view_count": null,
            "_view_module": "@jupyter-widgets/base",
            "_view_module_version": "1.2.0",
            "_view_name": "LayoutView",
            "align_content": null,
            "align_items": null,
            "align_self": null,
            "border": null,
            "bottom": null,
            "display": null,
            "flex": null,
            "flex_flow": null,
            "grid_area": null,
            "grid_auto_columns": null,
            "grid_auto_flow": null,
            "grid_auto_rows": null,
            "grid_column": null,
            "grid_gap": null,
            "grid_row": null,
            "grid_template_areas": null,
            "grid_template_columns": null,
            "grid_template_rows": null,
            "height": null,
            "justify_content": null,
            "justify_items": null,
            "left": null,
            "margin": null,
            "max_height": null,
            "max_width": null,
            "min_height": null,
            "min_width": null,
            "object_fit": null,
            "object_position": null,
            "order": null,
            "overflow": null,
            "overflow_x": null,
            "overflow_y": null,
            "padding": null,
            "right": null,
            "top": null,
            "visibility": null,
            "width": null
          }
        },
        "10322569c45544f2b9a97609d4f25134": {
          "model_module": "@jupyter-widgets/controls",
          "model_module_version": "1.5.0",
          "model_name": "DescriptionStyleModel",
          "state": {
            "_model_module": "@jupyter-widgets/controls",
            "_model_module_version": "1.5.0",
            "_model_name": "DescriptionStyleModel",
            "_view_count": null,
            "_view_module": "@jupyter-widgets/base",
            "_view_module_version": "1.2.0",
            "_view_name": "StyleView",
            "description_width": ""
          }
        },
        "16608a7a94394e2eb206f5cf4180a22e": {
          "model_module": "@jupyter-widgets/controls",
          "model_module_version": "1.5.0",
          "model_name": "HTMLModel",
          "state": {
            "_dom_classes": [],
            "_model_module": "@jupyter-widgets/controls",
            "_model_module_version": "1.5.0",
            "_model_name": "HTMLModel",
            "_view_count": null,
            "_view_module": "@jupyter-widgets/controls",
            "_view_module_version": "1.5.0",
            "_view_name": "HTMLView",
            "description": "",
            "description_tooltip": null,
            "layout": "IPY_MODEL_afae831215484db694aaaab4c1f3f69a",
            "placeholder": "​",
            "style": "IPY_MODEL_b45adde839fc4694b56b0f51e803e662",
            "value": " 483/483 [00:00&lt;00:00, 31.7kB/s]"
          }
        },
        "1ce3079697474e17a99b5233b5d5bbaa": {
          "model_module": "@jupyter-widgets/base",
          "model_module_version": "1.2.0",
          "model_name": "LayoutModel",
          "state": {
            "_model_module": "@jupyter-widgets/base",
            "_model_module_version": "1.2.0",
            "_model_name": "LayoutModel",
            "_view_count": null,
            "_view_module": "@jupyter-widgets/base",
            "_view_module_version": "1.2.0",
            "_view_name": "LayoutView",
            "align_content": null,
            "align_items": null,
            "align_self": null,
            "border": null,
            "bottom": null,
            "display": null,
            "flex": null,
            "flex_flow": null,
            "grid_area": null,
            "grid_auto_columns": null,
            "grid_auto_flow": null,
            "grid_auto_rows": null,
            "grid_column": null,
            "grid_gap": null,
            "grid_row": null,
            "grid_template_areas": null,
            "grid_template_columns": null,
            "grid_template_rows": null,
            "height": null,
            "justify_content": null,
            "justify_items": null,
            "left": null,
            "margin": null,
            "max_height": null,
            "max_width": null,
            "min_height": null,
            "min_width": null,
            "object_fit": null,
            "object_position": null,
            "order": null,
            "overflow": null,
            "overflow_x": null,
            "overflow_y": null,
            "padding": null,
            "right": null,
            "top": null,
            "visibility": null,
            "width": null
          }
        },
        "2891de5648924881a8daf36b717b427f": {
          "model_module": "@jupyter-widgets/controls",
          "model_module_version": "1.5.0",
          "model_name": "DescriptionStyleModel",
          "state": {
            "_model_module": "@jupyter-widgets/controls",
            "_model_module_version": "1.5.0",
            "_model_name": "DescriptionStyleModel",
            "_view_count": null,
            "_view_module": "@jupyter-widgets/base",
            "_view_module_version": "1.2.0",
            "_view_name": "StyleView",
            "description_width": ""
          }
        },
        "2e0c568613d94beeb80e6f848a81706c": {
          "model_module": "@jupyter-widgets/controls",
          "model_module_version": "1.5.0",
          "model_name": "FloatProgressModel",
          "state": {
            "_dom_classes": [],
            "_model_module": "@jupyter-widgets/controls",
            "_model_module_version": "1.5.0",
            "_model_name": "FloatProgressModel",
            "_view_count": null,
            "_view_module": "@jupyter-widgets/controls",
            "_view_module_version": "1.5.0",
            "_view_name": "ProgressView",
            "bar_style": "success",
            "description": "",
            "description_tooltip": null,
            "layout": "IPY_MODEL_32616e37cac9459585b6cea17aae93de",
            "max": 483,
            "min": 0,
            "orientation": "horizontal",
            "style": "IPY_MODEL_d2374a75a4764bebaba55942c0b1142a",
            "value": 483
          }
        },
        "3106afd05ed341c6a80028e22effe5ef": {
          "model_module": "@jupyter-widgets/controls",
          "model_module_version": "1.5.0",
          "model_name": "ProgressStyleModel",
          "state": {
            "_model_module": "@jupyter-widgets/controls",
            "_model_module_version": "1.5.0",
            "_model_name": "ProgressStyleModel",
            "_view_count": null,
            "_view_module": "@jupyter-widgets/base",
            "_view_module_version": "1.2.0",
            "_view_name": "StyleView",
            "bar_color": null,
            "description_width": ""
          }
        },
        "32616e37cac9459585b6cea17aae93de": {
          "model_module": "@jupyter-widgets/base",
          "model_module_version": "1.2.0",
          "model_name": "LayoutModel",
          "state": {
            "_model_module": "@jupyter-widgets/base",
            "_model_module_version": "1.2.0",
            "_model_name": "LayoutModel",
            "_view_count": null,
            "_view_module": "@jupyter-widgets/base",
            "_view_module_version": "1.2.0",
            "_view_name": "LayoutView",
            "align_content": null,
            "align_items": null,
            "align_self": null,
            "border": null,
            "bottom": null,
            "display": null,
            "flex": null,
            "flex_flow": null,
            "grid_area": null,
            "grid_auto_columns": null,
            "grid_auto_flow": null,
            "grid_auto_rows": null,
            "grid_column": null,
            "grid_gap": null,
            "grid_row": null,
            "grid_template_areas": null,
            "grid_template_columns": null,
            "grid_template_rows": null,
            "height": null,
            "justify_content": null,
            "justify_items": null,
            "left": null,
            "margin": null,
            "max_height": null,
            "max_width": null,
            "min_height": null,
            "min_width": null,
            "object_fit": null,
            "object_position": null,
            "order": null,
            "overflow": null,
            "overflow_x": null,
            "overflow_y": null,
            "padding": null,
            "right": null,
            "top": null,
            "visibility": null,
            "width": null
          }
        },
        "39430da622b84b908f6a40bf121f2cf4": {
          "model_module": "@jupyter-widgets/base",
          "model_module_version": "1.2.0",
          "model_name": "LayoutModel",
          "state": {
            "_model_module": "@jupyter-widgets/base",
            "_model_module_version": "1.2.0",
            "_model_name": "LayoutModel",
            "_view_count": null,
            "_view_module": "@jupyter-widgets/base",
            "_view_module_version": "1.2.0",
            "_view_name": "LayoutView",
            "align_content": null,
            "align_items": null,
            "align_self": null,
            "border": null,
            "bottom": null,
            "display": null,
            "flex": null,
            "flex_flow": null,
            "grid_area": null,
            "grid_auto_columns": null,
            "grid_auto_flow": null,
            "grid_auto_rows": null,
            "grid_column": null,
            "grid_gap": null,
            "grid_row": null,
            "grid_template_areas": null,
            "grid_template_columns": null,
            "grid_template_rows": null,
            "height": null,
            "justify_content": null,
            "justify_items": null,
            "left": null,
            "margin": null,
            "max_height": null,
            "max_width": null,
            "min_height": null,
            "min_width": null,
            "object_fit": null,
            "object_position": null,
            "order": null,
            "overflow": null,
            "overflow_x": null,
            "overflow_y": null,
            "padding": null,
            "right": null,
            "top": null,
            "visibility": null,
            "width": null
          }
        },
        "396ce6c15767477a85254ecf298e1496": {
          "model_module": "@jupyter-widgets/controls",
          "model_module_version": "1.5.0",
          "model_name": "HTMLModel",
          "state": {
            "_dom_classes": [],
            "_model_module": "@jupyter-widgets/controls",
            "_model_module_version": "1.5.0",
            "_model_name": "HTMLModel",
            "_view_count": null,
            "_view_module": "@jupyter-widgets/controls",
            "_view_module_version": "1.5.0",
            "_view_name": "HTMLView",
            "description": "",
            "description_tooltip": null,
            "layout": "IPY_MODEL_a30cd5d9a3ad45b499fd0cfd94cf359f",
            "placeholder": "​",
            "style": "IPY_MODEL_a490ee66fa6a4571aea0929125bc33fd",
            "value": "tokenizer_config.json: 100%"
          }
        },
        "3fd8ab3c1e174e669358dd9f5e7f7695": {
          "model_module": "@jupyter-widgets/base",
          "model_module_version": "1.2.0",
          "model_name": "LayoutModel",
          "state": {
            "_model_module": "@jupyter-widgets/base",
            "_model_module_version": "1.2.0",
            "_model_name": "LayoutModel",
            "_view_count": null,
            "_view_module": "@jupyter-widgets/base",
            "_view_module_version": "1.2.0",
            "_view_name": "LayoutView",
            "align_content": null,
            "align_items": null,
            "align_self": null,
            "border": null,
            "bottom": null,
            "display": null,
            "flex": null,
            "flex_flow": null,
            "grid_area": null,
            "grid_auto_columns": null,
            "grid_auto_flow": null,
            "grid_auto_rows": null,
            "grid_column": null,
            "grid_gap": null,
            "grid_row": null,
            "grid_template_areas": null,
            "grid_template_columns": null,
            "grid_template_rows": null,
            "height": null,
            "justify_content": null,
            "justify_items": null,
            "left": null,
            "margin": null,
            "max_height": null,
            "max_width": null,
            "min_height": null,
            "min_width": null,
            "object_fit": null,
            "object_position": null,
            "order": null,
            "overflow": null,
            "overflow_x": null,
            "overflow_y": null,
            "padding": null,
            "right": null,
            "top": null,
            "visibility": null,
            "width": null
          }
        },
        "40b6a8ffd60a4907a0b256ae2a29c857": {
          "model_module": "@jupyter-widgets/base",
          "model_module_version": "1.2.0",
          "model_name": "LayoutModel",
          "state": {
            "_model_module": "@jupyter-widgets/base",
            "_model_module_version": "1.2.0",
            "_model_name": "LayoutModel",
            "_view_count": null,
            "_view_module": "@jupyter-widgets/base",
            "_view_module_version": "1.2.0",
            "_view_name": "LayoutView",
            "align_content": null,
            "align_items": null,
            "align_self": null,
            "border": null,
            "bottom": null,
            "display": null,
            "flex": null,
            "flex_flow": null,
            "grid_area": null,
            "grid_auto_columns": null,
            "grid_auto_flow": null,
            "grid_auto_rows": null,
            "grid_column": null,
            "grid_gap": null,
            "grid_row": null,
            "grid_template_areas": null,
            "grid_template_columns": null,
            "grid_template_rows": null,
            "height": null,
            "justify_content": null,
            "justify_items": null,
            "left": null,
            "margin": null,
            "max_height": null,
            "max_width": null,
            "min_height": null,
            "min_width": null,
            "object_fit": null,
            "object_position": null,
            "order": null,
            "overflow": null,
            "overflow_x": null,
            "overflow_y": null,
            "padding": null,
            "right": null,
            "top": null,
            "visibility": null,
            "width": null
          }
        },
        "49bd94b2f6474136a1f91f0d3317a18e": {
          "model_module": "@jupyter-widgets/controls",
          "model_module_version": "1.5.0",
          "model_name": "HBoxModel",
          "state": {
            "_dom_classes": [],
            "_model_module": "@jupyter-widgets/controls",
            "_model_module_version": "1.5.0",
            "_model_name": "HBoxModel",
            "_view_count": null,
            "_view_module": "@jupyter-widgets/controls",
            "_view_module_version": "1.5.0",
            "_view_name": "HBoxView",
            "box_style": "",
            "children": [
              "IPY_MODEL_6881e2f4638141128cebf9133edd1574",
              "IPY_MODEL_d71da338dcd04868a458d6687cd026dd",
              "IPY_MODEL_69c09081301849f9af2ccf82d371803e"
            ],
            "layout": "IPY_MODEL_09bff1e7286d43979b9bb25e1288a204"
          }
        },
        "5614614c6a2646179fd968f4625989b9": {
          "model_module": "@jupyter-widgets/controls",
          "model_module_version": "1.5.0",
          "model_name": "FloatProgressModel",
          "state": {
            "_dom_classes": [],
            "_model_module": "@jupyter-widgets/controls",
            "_model_module_version": "1.5.0",
            "_model_name": "FloatProgressModel",
            "_view_count": null,
            "_view_module": "@jupyter-widgets/controls",
            "_view_module_version": "1.5.0",
            "_view_name": "ProgressView",
            "bar_style": "success",
            "description": "",
            "description_tooltip": null,
            "layout": "IPY_MODEL_98eea63b73264798941edcc3d4ea7aa1",
            "max": 48,
            "min": 0,
            "orientation": "horizontal",
            "style": "IPY_MODEL_fd8a5b725755471f847983f31cb4400b",
            "value": 48
          }
        },
        "5790091d6a07474aa86a0a63165d1297": {
          "model_module": "@jupyter-widgets/base",
          "model_module_version": "1.2.0",
          "model_name": "LayoutModel",
          "state": {
            "_model_module": "@jupyter-widgets/base",
            "_model_module_version": "1.2.0",
            "_model_name": "LayoutModel",
            "_view_count": null,
            "_view_module": "@jupyter-widgets/base",
            "_view_module_version": "1.2.0",
            "_view_name": "LayoutView",
            "align_content": null,
            "align_items": null,
            "align_self": null,
            "border": null,
            "bottom": null,
            "display": null,
            "flex": null,
            "flex_flow": null,
            "grid_area": null,
            "grid_auto_columns": null,
            "grid_auto_flow": null,
            "grid_auto_rows": null,
            "grid_column": null,
            "grid_gap": null,
            "grid_row": null,
            "grid_template_areas": null,
            "grid_template_columns": null,
            "grid_template_rows": null,
            "height": null,
            "justify_content": null,
            "justify_items": null,
            "left": null,
            "margin": null,
            "max_height": null,
            "max_width": null,
            "min_height": null,
            "min_width": null,
            "object_fit": null,
            "object_position": null,
            "order": null,
            "overflow": null,
            "overflow_x": null,
            "overflow_y": null,
            "padding": null,
            "right": null,
            "top": null,
            "visibility": null,
            "width": null
          }
        },
        "5da5623b14ee4696a1fd8beb9a0ba7df": {
          "model_module": "@jupyter-widgets/controls",
          "model_module_version": "1.5.0",
          "model_name": "HBoxModel",
          "state": {
            "_dom_classes": [],
            "_model_module": "@jupyter-widgets/controls",
            "_model_module_version": "1.5.0",
            "_model_name": "HBoxModel",
            "_view_count": null,
            "_view_module": "@jupyter-widgets/controls",
            "_view_module_version": "1.5.0",
            "_view_name": "HBoxView",
            "box_style": "",
            "children": [
              "IPY_MODEL_ca932d61799b4604a6956eab6de081c0",
              "IPY_MODEL_2e0c568613d94beeb80e6f848a81706c",
              "IPY_MODEL_16608a7a94394e2eb206f5cf4180a22e"
            ],
            "layout": "IPY_MODEL_edb11c11def8487da4dd8ddc61398776"
          }
        },
        "6495db6fc7c24426ab9031e33f07d8a5": {
          "model_module": "@jupyter-widgets/controls",
          "model_module_version": "1.5.0",
          "model_name": "HTMLModel",
          "state": {
            "_dom_classes": [],
            "_model_module": "@jupyter-widgets/controls",
            "_model_module_version": "1.5.0",
            "_model_name": "HTMLModel",
            "_view_count": null,
            "_view_module": "@jupyter-widgets/controls",
            "_view_module_version": "1.5.0",
            "_view_name": "HTMLView",
            "description": "",
            "description_tooltip": null,
            "layout": "IPY_MODEL_cbdaf58235f241aeb378a16f92f1144e",
            "placeholder": "​",
            "style": "IPY_MODEL_e7a5b657fc644125888a1bed546bb778",
            "value": " 268M/268M [00:01&lt;00:00, 199MB/s]"
          }
        },
        "683b14908e9e4992893d81f2d34ce050": {
          "model_module": "@jupyter-widgets/controls",
          "model_module_version": "1.5.0",
          "model_name": "DescriptionStyleModel",
          "state": {
            "_model_module": "@jupyter-widgets/controls",
            "_model_module_version": "1.5.0",
            "_model_name": "DescriptionStyleModel",
            "_view_count": null,
            "_view_module": "@jupyter-widgets/base",
            "_view_module_version": "1.2.0",
            "_view_name": "StyleView",
            "description_width": ""
          }
        },
        "6881e2f4638141128cebf9133edd1574": {
          "model_module": "@jupyter-widgets/controls",
          "model_module_version": "1.5.0",
          "model_name": "HTMLModel",
          "state": {
            "_dom_classes": [],
            "_model_module": "@jupyter-widgets/controls",
            "_model_module_version": "1.5.0",
            "_model_name": "HTMLModel",
            "_view_count": null,
            "_view_module": "@jupyter-widgets/controls",
            "_view_module_version": "1.5.0",
            "_view_name": "HTMLView",
            "description": "",
            "description_tooltip": null,
            "layout": "IPY_MODEL_a8c88bd4257646f48ca5c4e0c6a42541",
            "placeholder": "​",
            "style": "IPY_MODEL_683b14908e9e4992893d81f2d34ce050",
            "value": "vocab.txt: 100%"
          }
        },
        "69c09081301849f9af2ccf82d371803e": {
          "model_module": "@jupyter-widgets/controls",
          "model_module_version": "1.5.0",
          "model_name": "HTMLModel",
          "state": {
            "_dom_classes": [],
            "_model_module": "@jupyter-widgets/controls",
            "_model_module_version": "1.5.0",
            "_model_name": "HTMLModel",
            "_view_count": null,
            "_view_module": "@jupyter-widgets/controls",
            "_view_module_version": "1.5.0",
            "_view_name": "HTMLView",
            "description": "",
            "description_tooltip": null,
            "layout": "IPY_MODEL_f0ea26c087d54e56ba8d6eea9e080489",
            "placeholder": "​",
            "style": "IPY_MODEL_2891de5648924881a8daf36b717b427f",
            "value": " 232k/232k [00:00&lt;00:00, 1.42MB/s]"
          }
        },
        "6ca705c8e8304e2c860c1b17cc148dc8": {
          "model_module": "@jupyter-widgets/base",
          "model_module_version": "1.2.0",
          "model_name": "LayoutModel",
          "state": {
            "_model_module": "@jupyter-widgets/base",
            "_model_module_version": "1.2.0",
            "_model_name": "LayoutModel",
            "_view_count": null,
            "_view_module": "@jupyter-widgets/base",
            "_view_module_version": "1.2.0",
            "_view_name": "LayoutView",
            "align_content": null,
            "align_items": null,
            "align_self": null,
            "border": null,
            "bottom": null,
            "display": null,
            "flex": null,
            "flex_flow": null,
            "grid_area": null,
            "grid_auto_columns": null,
            "grid_auto_flow": null,
            "grid_auto_rows": null,
            "grid_column": null,
            "grid_gap": null,
            "grid_row": null,
            "grid_template_areas": null,
            "grid_template_columns": null,
            "grid_template_rows": null,
            "height": null,
            "justify_content": null,
            "justify_items": null,
            "left": null,
            "margin": null,
            "max_height": null,
            "max_width": null,
            "min_height": null,
            "min_width": null,
            "object_fit": null,
            "object_position": null,
            "order": null,
            "overflow": null,
            "overflow_x": null,
            "overflow_y": null,
            "padding": null,
            "right": null,
            "top": null,
            "visibility": null,
            "width": null
          }
        },
        "72bb2d0b974c4490811dcc32350a4f83": {
          "model_module": "@jupyter-widgets/controls",
          "model_module_version": "1.5.0",
          "model_name": "FloatProgressModel",
          "state": {
            "_dom_classes": [],
            "_model_module": "@jupyter-widgets/controls",
            "_model_module_version": "1.5.0",
            "_model_name": "FloatProgressModel",
            "_view_count": null,
            "_view_module": "@jupyter-widgets/controls",
            "_view_module_version": "1.5.0",
            "_view_name": "ProgressView",
            "bar_style": "success",
            "description": "",
            "description_tooltip": null,
            "layout": "IPY_MODEL_39430da622b84b908f6a40bf121f2cf4",
            "max": 466062,
            "min": 0,
            "orientation": "horizontal",
            "style": "IPY_MODEL_75987faa3d144012a0df5183fd1b0eeb",
            "value": 466062
          }
        },
        "75987faa3d144012a0df5183fd1b0eeb": {
          "model_module": "@jupyter-widgets/controls",
          "model_module_version": "1.5.0",
          "model_name": "ProgressStyleModel",
          "state": {
            "_model_module": "@jupyter-widgets/controls",
            "_model_module_version": "1.5.0",
            "_model_name": "ProgressStyleModel",
            "_view_count": null,
            "_view_module": "@jupyter-widgets/base",
            "_view_module_version": "1.2.0",
            "_view_name": "StyleView",
            "bar_color": null,
            "description_width": ""
          }
        },
        "78b4fc0b8725495d800a16c664ed5d55": {
          "model_module": "@jupyter-widgets/base",
          "model_module_version": "1.2.0",
          "model_name": "LayoutModel",
          "state": {
            "_model_module": "@jupyter-widgets/base",
            "_model_module_version": "1.2.0",
            "_model_name": "LayoutModel",
            "_view_count": null,
            "_view_module": "@jupyter-widgets/base",
            "_view_module_version": "1.2.0",
            "_view_name": "LayoutView",
            "align_content": null,
            "align_items": null,
            "align_self": null,
            "border": null,
            "bottom": null,
            "display": null,
            "flex": null,
            "flex_flow": null,
            "grid_area": null,
            "grid_auto_columns": null,
            "grid_auto_flow": null,
            "grid_auto_rows": null,
            "grid_column": null,
            "grid_gap": null,
            "grid_row": null,
            "grid_template_areas": null,
            "grid_template_columns": null,
            "grid_template_rows": null,
            "height": null,
            "justify_content": null,
            "justify_items": null,
            "left": null,
            "margin": null,
            "max_height": null,
            "max_width": null,
            "min_height": null,
            "min_width": null,
            "object_fit": null,
            "object_position": null,
            "order": null,
            "overflow": null,
            "overflow_x": null,
            "overflow_y": null,
            "padding": null,
            "right": null,
            "top": null,
            "visibility": null,
            "width": null
          }
        },
        "8af261d05e6e4f9a8b390dab99f8dd91": {
          "model_module": "@jupyter-widgets/controls",
          "model_module_version": "1.5.0",
          "model_name": "DescriptionStyleModel",
          "state": {
            "_model_module": "@jupyter-widgets/controls",
            "_model_module_version": "1.5.0",
            "_model_name": "DescriptionStyleModel",
            "_view_count": null,
            "_view_module": "@jupyter-widgets/base",
            "_view_module_version": "1.2.0",
            "_view_name": "StyleView",
            "description_width": ""
          }
        },
        "8c83eec5549644368fcca44ad9fac5c8": {
          "model_module": "@jupyter-widgets/controls",
          "model_module_version": "1.5.0",
          "model_name": "FloatProgressModel",
          "state": {
            "_dom_classes": [],
            "_model_module": "@jupyter-widgets/controls",
            "_model_module_version": "1.5.0",
            "_model_name": "FloatProgressModel",
            "_view_count": null,
            "_view_module": "@jupyter-widgets/controls",
            "_view_module_version": "1.5.0",
            "_view_name": "ProgressView",
            "bar_style": "success",
            "description": "",
            "description_tooltip": null,
            "layout": "IPY_MODEL_bc22b9d78c714148a2b2fb99c745812e",
            "max": 267954768,
            "min": 0,
            "orientation": "horizontal",
            "style": "IPY_MODEL_3106afd05ed341c6a80028e22effe5ef",
            "value": 267954768
          }
        },
        "965fc26b59964d43b72e9bfeeac9da1a": {
          "model_module": "@jupyter-widgets/base",
          "model_module_version": "1.2.0",
          "model_name": "LayoutModel",
          "state": {
            "_model_module": "@jupyter-widgets/base",
            "_model_module_version": "1.2.0",
            "_model_name": "LayoutModel",
            "_view_count": null,
            "_view_module": "@jupyter-widgets/base",
            "_view_module_version": "1.2.0",
            "_view_name": "LayoutView",
            "align_content": null,
            "align_items": null,
            "align_self": null,
            "border": null,
            "bottom": null,
            "display": null,
            "flex": null,
            "flex_flow": null,
            "grid_area": null,
            "grid_auto_columns": null,
            "grid_auto_flow": null,
            "grid_auto_rows": null,
            "grid_column": null,
            "grid_gap": null,
            "grid_row": null,
            "grid_template_areas": null,
            "grid_template_columns": null,
            "grid_template_rows": null,
            "height": null,
            "justify_content": null,
            "justify_items": null,
            "left": null,
            "margin": null,
            "max_height": null,
            "max_width": null,
            "min_height": null,
            "min_width": null,
            "object_fit": null,
            "object_position": null,
            "order": null,
            "overflow": null,
            "overflow_x": null,
            "overflow_y": null,
            "padding": null,
            "right": null,
            "top": null,
            "visibility": null,
            "width": null
          }
        },
        "98eea63b73264798941edcc3d4ea7aa1": {
          "model_module": "@jupyter-widgets/base",
          "model_module_version": "1.2.0",
          "model_name": "LayoutModel",
          "state": {
            "_model_module": "@jupyter-widgets/base",
            "_model_module_version": "1.2.0",
            "_model_name": "LayoutModel",
            "_view_count": null,
            "_view_module": "@jupyter-widgets/base",
            "_view_module_version": "1.2.0",
            "_view_name": "LayoutView",
            "align_content": null,
            "align_items": null,
            "align_self": null,
            "border": null,
            "bottom": null,
            "display": null,
            "flex": null,
            "flex_flow": null,
            "grid_area": null,
            "grid_auto_columns": null,
            "grid_auto_flow": null,
            "grid_auto_rows": null,
            "grid_column": null,
            "grid_gap": null,
            "grid_row": null,
            "grid_template_areas": null,
            "grid_template_columns": null,
            "grid_template_rows": null,
            "height": null,
            "justify_content": null,
            "justify_items": null,
            "left": null,
            "margin": null,
            "max_height": null,
            "max_width": null,
            "min_height": null,
            "min_width": null,
            "object_fit": null,
            "object_position": null,
            "order": null,
            "overflow": null,
            "overflow_x": null,
            "overflow_y": null,
            "padding": null,
            "right": null,
            "top": null,
            "visibility": null,
            "width": null
          }
        },
        "a30cd5d9a3ad45b499fd0cfd94cf359f": {
          "model_module": "@jupyter-widgets/base",
          "model_module_version": "1.2.0",
          "model_name": "LayoutModel",
          "state": {
            "_model_module": "@jupyter-widgets/base",
            "_model_module_version": "1.2.0",
            "_model_name": "LayoutModel",
            "_view_count": null,
            "_view_module": "@jupyter-widgets/base",
            "_view_module_version": "1.2.0",
            "_view_name": "LayoutView",
            "align_content": null,
            "align_items": null,
            "align_self": null,
            "border": null,
            "bottom": null,
            "display": null,
            "flex": null,
            "flex_flow": null,
            "grid_area": null,
            "grid_auto_columns": null,
            "grid_auto_flow": null,
            "grid_auto_rows": null,
            "grid_column": null,
            "grid_gap": null,
            "grid_row": null,
            "grid_template_areas": null,
            "grid_template_columns": null,
            "grid_template_rows": null,
            "height": null,
            "justify_content": null,
            "justify_items": null,
            "left": null,
            "margin": null,
            "max_height": null,
            "max_width": null,
            "min_height": null,
            "min_width": null,
            "object_fit": null,
            "object_position": null,
            "order": null,
            "overflow": null,
            "overflow_x": null,
            "overflow_y": null,
            "padding": null,
            "right": null,
            "top": null,
            "visibility": null,
            "width": null
          }
        },
        "a490ee66fa6a4571aea0929125bc33fd": {
          "model_module": "@jupyter-widgets/controls",
          "model_module_version": "1.5.0",
          "model_name": "DescriptionStyleModel",
          "state": {
            "_model_module": "@jupyter-widgets/controls",
            "_model_module_version": "1.5.0",
            "_model_name": "DescriptionStyleModel",
            "_view_count": null,
            "_view_module": "@jupyter-widgets/base",
            "_view_module_version": "1.2.0",
            "_view_name": "StyleView",
            "description_width": ""
          }
        },
        "a7041ea58a9f467185fee2de97da6c60": {
          "model_module": "@jupyter-widgets/controls",
          "model_module_version": "1.5.0",
          "model_name": "HTMLModel",
          "state": {
            "_dom_classes": [],
            "_model_module": "@jupyter-widgets/controls",
            "_model_module_version": "1.5.0",
            "_model_name": "HTMLModel",
            "_view_count": null,
            "_view_module": "@jupyter-widgets/controls",
            "_view_module_version": "1.5.0",
            "_view_name": "HTMLView",
            "description": "",
            "description_tooltip": null,
            "layout": "IPY_MODEL_3fd8ab3c1e174e669358dd9f5e7f7695",
            "placeholder": "​",
            "style": "IPY_MODEL_bf1abd0412504f64980234d99c48e045",
            "value": "model.safetensors: 100%"
          }
        },
        "a7705c88e97f4f84b7d8f4c695f0eb84": {
          "model_module": "@jupyter-widgets/base",
          "model_module_version": "1.2.0",
          "model_name": "LayoutModel",
          "state": {
            "_model_module": "@jupyter-widgets/base",
            "_model_module_version": "1.2.0",
            "_model_name": "LayoutModel",
            "_view_count": null,
            "_view_module": "@jupyter-widgets/base",
            "_view_module_version": "1.2.0",
            "_view_name": "LayoutView",
            "align_content": null,
            "align_items": null,
            "align_self": null,
            "border": null,
            "bottom": null,
            "display": null,
            "flex": null,
            "flex_flow": null,
            "grid_area": null,
            "grid_auto_columns": null,
            "grid_auto_flow": null,
            "grid_auto_rows": null,
            "grid_column": null,
            "grid_gap": null,
            "grid_row": null,
            "grid_template_areas": null,
            "grid_template_columns": null,
            "grid_template_rows": null,
            "height": null,
            "justify_content": null,
            "justify_items": null,
            "left": null,
            "margin": null,
            "max_height": null,
            "max_width": null,
            "min_height": null,
            "min_width": null,
            "object_fit": null,
            "object_position": null,
            "order": null,
            "overflow": null,
            "overflow_x": null,
            "overflow_y": null,
            "padding": null,
            "right": null,
            "top": null,
            "visibility": null,
            "width": null
          }
        },
        "a8c88bd4257646f48ca5c4e0c6a42541": {
          "model_module": "@jupyter-widgets/base",
          "model_module_version": "1.2.0",
          "model_name": "LayoutModel",
          "state": {
            "_model_module": "@jupyter-widgets/base",
            "_model_module_version": "1.2.0",
            "_model_name": "LayoutModel",
            "_view_count": null,
            "_view_module": "@jupyter-widgets/base",
            "_view_module_version": "1.2.0",
            "_view_name": "LayoutView",
            "align_content": null,
            "align_items": null,
            "align_self": null,
            "border": null,
            "bottom": null,
            "display": null,
            "flex": null,
            "flex_flow": null,
            "grid_area": null,
            "grid_auto_columns": null,
            "grid_auto_flow": null,
            "grid_auto_rows": null,
            "grid_column": null,
            "grid_gap": null,
            "grid_row": null,
            "grid_template_areas": null,
            "grid_template_columns": null,
            "grid_template_rows": null,
            "height": null,
            "justify_content": null,
            "justify_items": null,
            "left": null,
            "margin": null,
            "max_height": null,
            "max_width": null,
            "min_height": null,
            "min_width": null,
            "object_fit": null,
            "object_position": null,
            "order": null,
            "overflow": null,
            "overflow_x": null,
            "overflow_y": null,
            "padding": null,
            "right": null,
            "top": null,
            "visibility": null,
            "width": null
          }
        },
        "aa42a47f18f7401fb8cbec09f6072bd8": {
          "model_module": "@jupyter-widgets/controls",
          "model_module_version": "1.5.0",
          "model_name": "ProgressStyleModel",
          "state": {
            "_model_module": "@jupyter-widgets/controls",
            "_model_module_version": "1.5.0",
            "_model_name": "ProgressStyleModel",
            "_view_count": null,
            "_view_module": "@jupyter-widgets/base",
            "_view_module_version": "1.2.0",
            "_view_name": "StyleView",
            "bar_color": null,
            "description_width": ""
          }
        },
        "adafab5d9e624997b941a0aa6da45548": {
          "model_module": "@jupyter-widgets/controls",
          "model_module_version": "1.5.0",
          "model_name": "HTMLModel",
          "state": {
            "_dom_classes": [],
            "_model_module": "@jupyter-widgets/controls",
            "_model_module_version": "1.5.0",
            "_model_name": "HTMLModel",
            "_view_count": null,
            "_view_module": "@jupyter-widgets/controls",
            "_view_module_version": "1.5.0",
            "_view_name": "HTMLView",
            "description": "",
            "description_tooltip": null,
            "layout": "IPY_MODEL_965fc26b59964d43b72e9bfeeac9da1a",
            "placeholder": "​",
            "style": "IPY_MODEL_f118f476b1f040ceba1f6956787eb441",
            "value": " 48.0/48.0 [00:00&lt;00:00, 2.13kB/s]"
          }
        },
        "ae351992ea7d41c18e70f576af7ec3e0": {
          "model_module": "@jupyter-widgets/controls",
          "model_module_version": "1.5.0",
          "model_name": "HTMLModel",
          "state": {
            "_dom_classes": [],
            "_model_module": "@jupyter-widgets/controls",
            "_model_module_version": "1.5.0",
            "_model_name": "HTMLModel",
            "_view_count": null,
            "_view_module": "@jupyter-widgets/controls",
            "_view_module_version": "1.5.0",
            "_view_name": "HTMLView",
            "description": "",
            "description_tooltip": null,
            "layout": "IPY_MODEL_5790091d6a07474aa86a0a63165d1297",
            "placeholder": "​",
            "style": "IPY_MODEL_8af261d05e6e4f9a8b390dab99f8dd91",
            "value": " 466k/466k [00:00&lt;00:00, 2.42MB/s]"
          }
        },
        "afae831215484db694aaaab4c1f3f69a": {
          "model_module": "@jupyter-widgets/base",
          "model_module_version": "1.2.0",
          "model_name": "LayoutModel",
          "state": {
            "_model_module": "@jupyter-widgets/base",
            "_model_module_version": "1.2.0",
            "_model_name": "LayoutModel",
            "_view_count": null,
            "_view_module": "@jupyter-widgets/base",
            "_view_module_version": "1.2.0",
            "_view_name": "LayoutView",
            "align_content": null,
            "align_items": null,
            "align_self": null,
            "border": null,
            "bottom": null,
            "display": null,
            "flex": null,
            "flex_flow": null,
            "grid_area": null,
            "grid_auto_columns": null,
            "grid_auto_flow": null,
            "grid_auto_rows": null,
            "grid_column": null,
            "grid_gap": null,
            "grid_row": null,
            "grid_template_areas": null,
            "grid_template_columns": null,
            "grid_template_rows": null,
            "height": null,
            "justify_content": null,
            "justify_items": null,
            "left": null,
            "margin": null,
            "max_height": null,
            "max_width": null,
            "min_height": null,
            "min_width": null,
            "object_fit": null,
            "object_position": null,
            "order": null,
            "overflow": null,
            "overflow_x": null,
            "overflow_y": null,
            "padding": null,
            "right": null,
            "top": null,
            "visibility": null,
            "width": null
          }
        },
        "b45adde839fc4694b56b0f51e803e662": {
          "model_module": "@jupyter-widgets/controls",
          "model_module_version": "1.5.0",
          "model_name": "DescriptionStyleModel",
          "state": {
            "_model_module": "@jupyter-widgets/controls",
            "_model_module_version": "1.5.0",
            "_model_name": "DescriptionStyleModel",
            "_view_count": null,
            "_view_module": "@jupyter-widgets/base",
            "_view_module_version": "1.2.0",
            "_view_name": "StyleView",
            "description_width": ""
          }
        },
        "bba7915ebdf0441eb956711ef4af1f1f": {
          "model_module": "@jupyter-widgets/base",
          "model_module_version": "1.2.0",
          "model_name": "LayoutModel",
          "state": {
            "_model_module": "@jupyter-widgets/base",
            "_model_module_version": "1.2.0",
            "_model_name": "LayoutModel",
            "_view_count": null,
            "_view_module": "@jupyter-widgets/base",
            "_view_module_version": "1.2.0",
            "_view_name": "LayoutView",
            "align_content": null,
            "align_items": null,
            "align_self": null,
            "border": null,
            "bottom": null,
            "display": null,
            "flex": null,
            "flex_flow": null,
            "grid_area": null,
            "grid_auto_columns": null,
            "grid_auto_flow": null,
            "grid_auto_rows": null,
            "grid_column": null,
            "grid_gap": null,
            "grid_row": null,
            "grid_template_areas": null,
            "grid_template_columns": null,
            "grid_template_rows": null,
            "height": null,
            "justify_content": null,
            "justify_items": null,
            "left": null,
            "margin": null,
            "max_height": null,
            "max_width": null,
            "min_height": null,
            "min_width": null,
            "object_fit": null,
            "object_position": null,
            "order": null,
            "overflow": null,
            "overflow_x": null,
            "overflow_y": null,
            "padding": null,
            "right": null,
            "top": null,
            "visibility": null,
            "width": null
          }
        },
        "bc22b9d78c714148a2b2fb99c745812e": {
          "model_module": "@jupyter-widgets/base",
          "model_module_version": "1.2.0",
          "model_name": "LayoutModel",
          "state": {
            "_model_module": "@jupyter-widgets/base",
            "_model_module_version": "1.2.0",
            "_model_name": "LayoutModel",
            "_view_count": null,
            "_view_module": "@jupyter-widgets/base",
            "_view_module_version": "1.2.0",
            "_view_name": "LayoutView",
            "align_content": null,
            "align_items": null,
            "align_self": null,
            "border": null,
            "bottom": null,
            "display": null,
            "flex": null,
            "flex_flow": null,
            "grid_area": null,
            "grid_auto_columns": null,
            "grid_auto_flow": null,
            "grid_auto_rows": null,
            "grid_column": null,
            "grid_gap": null,
            "grid_row": null,
            "grid_template_areas": null,
            "grid_template_columns": null,
            "grid_template_rows": null,
            "height": null,
            "justify_content": null,
            "justify_items": null,
            "left": null,
            "margin": null,
            "max_height": null,
            "max_width": null,
            "min_height": null,
            "min_width": null,
            "object_fit": null,
            "object_position": null,
            "order": null,
            "overflow": null,
            "overflow_x": null,
            "overflow_y": null,
            "padding": null,
            "right": null,
            "top": null,
            "visibility": null,
            "width": null
          }
        },
        "bf1abd0412504f64980234d99c48e045": {
          "model_module": "@jupyter-widgets/controls",
          "model_module_version": "1.5.0",
          "model_name": "DescriptionStyleModel",
          "state": {
            "_model_module": "@jupyter-widgets/controls",
            "_model_module_version": "1.5.0",
            "_model_name": "DescriptionStyleModel",
            "_view_count": null,
            "_view_module": "@jupyter-widgets/base",
            "_view_module_version": "1.2.0",
            "_view_name": "StyleView",
            "description_width": ""
          }
        },
        "ca932d61799b4604a6956eab6de081c0": {
          "model_module": "@jupyter-widgets/controls",
          "model_module_version": "1.5.0",
          "model_name": "HTMLModel",
          "state": {
            "_dom_classes": [],
            "_model_module": "@jupyter-widgets/controls",
            "_model_module_version": "1.5.0",
            "_model_name": "HTMLModel",
            "_view_count": null,
            "_view_module": "@jupyter-widgets/controls",
            "_view_module_version": "1.5.0",
            "_view_name": "HTMLView",
            "description": "",
            "description_tooltip": null,
            "layout": "IPY_MODEL_1ce3079697474e17a99b5233b5d5bbaa",
            "placeholder": "​",
            "style": "IPY_MODEL_10322569c45544f2b9a97609d4f25134",
            "value": "config.json: 100%"
          }
        },
        "cbdaf58235f241aeb378a16f92f1144e": {
          "model_module": "@jupyter-widgets/base",
          "model_module_version": "1.2.0",
          "model_name": "LayoutModel",
          "state": {
            "_model_module": "@jupyter-widgets/base",
            "_model_module_version": "1.2.0",
            "_model_name": "LayoutModel",
            "_view_count": null,
            "_view_module": "@jupyter-widgets/base",
            "_view_module_version": "1.2.0",
            "_view_name": "LayoutView",
            "align_content": null,
            "align_items": null,
            "align_self": null,
            "border": null,
            "bottom": null,
            "display": null,
            "flex": null,
            "flex_flow": null,
            "grid_area": null,
            "grid_auto_columns": null,
            "grid_auto_flow": null,
            "grid_auto_rows": null,
            "grid_column": null,
            "grid_gap": null,
            "grid_row": null,
            "grid_template_areas": null,
            "grid_template_columns": null,
            "grid_template_rows": null,
            "height": null,
            "justify_content": null,
            "justify_items": null,
            "left": null,
            "margin": null,
            "max_height": null,
            "max_width": null,
            "min_height": null,
            "min_width": null,
            "object_fit": null,
            "object_position": null,
            "order": null,
            "overflow": null,
            "overflow_x": null,
            "overflow_y": null,
            "padding": null,
            "right": null,
            "top": null,
            "visibility": null,
            "width": null
          }
        },
        "d2374a75a4764bebaba55942c0b1142a": {
          "model_module": "@jupyter-widgets/controls",
          "model_module_version": "1.5.0",
          "model_name": "ProgressStyleModel",
          "state": {
            "_model_module": "@jupyter-widgets/controls",
            "_model_module_version": "1.5.0",
            "_model_name": "ProgressStyleModel",
            "_view_count": null,
            "_view_module": "@jupyter-widgets/base",
            "_view_module_version": "1.2.0",
            "_view_name": "StyleView",
            "bar_color": null,
            "description_width": ""
          }
        },
        "d71da338dcd04868a458d6687cd026dd": {
          "model_module": "@jupyter-widgets/controls",
          "model_module_version": "1.5.0",
          "model_name": "FloatProgressModel",
          "state": {
            "_dom_classes": [],
            "_model_module": "@jupyter-widgets/controls",
            "_model_module_version": "1.5.0",
            "_model_name": "FloatProgressModel",
            "_view_count": null,
            "_view_module": "@jupyter-widgets/controls",
            "_view_module_version": "1.5.0",
            "_view_name": "ProgressView",
            "bar_style": "success",
            "description": "",
            "description_tooltip": null,
            "layout": "IPY_MODEL_78b4fc0b8725495d800a16c664ed5d55",
            "max": 231508,
            "min": 0,
            "orientation": "horizontal",
            "style": "IPY_MODEL_aa42a47f18f7401fb8cbec09f6072bd8",
            "value": 231508
          }
        },
        "d9e70a0ff9ce499cbc21f7111946beef": {
          "model_module": "@jupyter-widgets/controls",
          "model_module_version": "1.5.0",
          "model_name": "HTMLModel",
          "state": {
            "_dom_classes": [],
            "_model_module": "@jupyter-widgets/controls",
            "_model_module_version": "1.5.0",
            "_model_name": "HTMLModel",
            "_view_count": null,
            "_view_module": "@jupyter-widgets/controls",
            "_view_module_version": "1.5.0",
            "_view_name": "HTMLView",
            "description": "",
            "description_tooltip": null,
            "layout": "IPY_MODEL_a7705c88e97f4f84b7d8f4c695f0eb84",
            "placeholder": "​",
            "style": "IPY_MODEL_079c5f3173e84406a44fe8b2269f442d",
            "value": "tokenizer.json: 100%"
          }
        },
        "e7a5b657fc644125888a1bed546bb778": {
          "model_module": "@jupyter-widgets/controls",
          "model_module_version": "1.5.0",
          "model_name": "DescriptionStyleModel",
          "state": {
            "_model_module": "@jupyter-widgets/controls",
            "_model_module_version": "1.5.0",
            "_model_name": "DescriptionStyleModel",
            "_view_count": null,
            "_view_module": "@jupyter-widgets/base",
            "_view_module_version": "1.2.0",
            "_view_name": "StyleView",
            "description_width": ""
          }
        },
        "edb11c11def8487da4dd8ddc61398776": {
          "model_module": "@jupyter-widgets/base",
          "model_module_version": "1.2.0",
          "model_name": "LayoutModel",
          "state": {
            "_model_module": "@jupyter-widgets/base",
            "_model_module_version": "1.2.0",
            "_model_name": "LayoutModel",
            "_view_count": null,
            "_view_module": "@jupyter-widgets/base",
            "_view_module_version": "1.2.0",
            "_view_name": "LayoutView",
            "align_content": null,
            "align_items": null,
            "align_self": null,
            "border": null,
            "bottom": null,
            "display": null,
            "flex": null,
            "flex_flow": null,
            "grid_area": null,
            "grid_auto_columns": null,
            "grid_auto_flow": null,
            "grid_auto_rows": null,
            "grid_column": null,
            "grid_gap": null,
            "grid_row": null,
            "grid_template_areas": null,
            "grid_template_columns": null,
            "grid_template_rows": null,
            "height": null,
            "justify_content": null,
            "justify_items": null,
            "left": null,
            "margin": null,
            "max_height": null,
            "max_width": null,
            "min_height": null,
            "min_width": null,
            "object_fit": null,
            "object_position": null,
            "order": null,
            "overflow": null,
            "overflow_x": null,
            "overflow_y": null,
            "padding": null,
            "right": null,
            "top": null,
            "visibility": null,
            "width": null
          }
        },
        "f0ea26c087d54e56ba8d6eea9e080489": {
          "model_module": "@jupyter-widgets/base",
          "model_module_version": "1.2.0",
          "model_name": "LayoutModel",
          "state": {
            "_model_module": "@jupyter-widgets/base",
            "_model_module_version": "1.2.0",
            "_model_name": "LayoutModel",
            "_view_count": null,
            "_view_module": "@jupyter-widgets/base",
            "_view_module_version": "1.2.0",
            "_view_name": "LayoutView",
            "align_content": null,
            "align_items": null,
            "align_self": null,
            "border": null,
            "bottom": null,
            "display": null,
            "flex": null,
            "flex_flow": null,
            "grid_area": null,
            "grid_auto_columns": null,
            "grid_auto_flow": null,
            "grid_auto_rows": null,
            "grid_column": null,
            "grid_gap": null,
            "grid_row": null,
            "grid_template_areas": null,
            "grid_template_columns": null,
            "grid_template_rows": null,
            "height": null,
            "justify_content": null,
            "justify_items": null,
            "left": null,
            "margin": null,
            "max_height": null,
            "max_width": null,
            "min_height": null,
            "min_width": null,
            "object_fit": null,
            "object_position": null,
            "order": null,
            "overflow": null,
            "overflow_x": null,
            "overflow_y": null,
            "padding": null,
            "right": null,
            "top": null,
            "visibility": null,
            "width": null
          }
        },
        "f118f476b1f040ceba1f6956787eb441": {
          "model_module": "@jupyter-widgets/controls",
          "model_module_version": "1.5.0",
          "model_name": "DescriptionStyleModel",
          "state": {
            "_model_module": "@jupyter-widgets/controls",
            "_model_module_version": "1.5.0",
            "_model_name": "DescriptionStyleModel",
            "_view_count": null,
            "_view_module": "@jupyter-widgets/base",
            "_view_module_version": "1.2.0",
            "_view_name": "StyleView",
            "description_width": ""
          }
        },
        "f3a848ef0c9f46b4b8201b9ba906fa97": {
          "model_module": "@jupyter-widgets/controls",
          "model_module_version": "1.5.0",
          "model_name": "HBoxModel",
          "state": {
            "_dom_classes": [],
            "_model_module": "@jupyter-widgets/controls",
            "_model_module_version": "1.5.0",
            "_model_name": "HBoxModel",
            "_view_count": null,
            "_view_module": "@jupyter-widgets/controls",
            "_view_module_version": "1.5.0",
            "_view_name": "HBoxView",
            "box_style": "",
            "children": [
              "IPY_MODEL_a7041ea58a9f467185fee2de97da6c60",
              "IPY_MODEL_8c83eec5549644368fcca44ad9fac5c8",
              "IPY_MODEL_6495db6fc7c24426ab9031e33f07d8a5"
            ],
            "layout": "IPY_MODEL_6ca705c8e8304e2c860c1b17cc148dc8"
          }
        },
        "fa00dadec9bb4b1fa5fe29c219ebfab5": {
          "model_module": "@jupyter-widgets/controls",
          "model_module_version": "1.5.0",
          "model_name": "HBoxModel",
          "state": {
            "_dom_classes": [],
            "_model_module": "@jupyter-widgets/controls",
            "_model_module_version": "1.5.0",
            "_model_name": "HBoxModel",
            "_view_count": null,
            "_view_module": "@jupyter-widgets/controls",
            "_view_module_version": "1.5.0",
            "_view_name": "HBoxView",
            "box_style": "",
            "children": [
              "IPY_MODEL_d9e70a0ff9ce499cbc21f7111946beef",
              "IPY_MODEL_72bb2d0b974c4490811dcc32350a4f83",
              "IPY_MODEL_ae351992ea7d41c18e70f576af7ec3e0"
            ],
            "layout": "IPY_MODEL_bba7915ebdf0441eb956711ef4af1f1f"
          }
        },
        "fd8a5b725755471f847983f31cb4400b": {
          "model_module": "@jupyter-widgets/controls",
          "model_module_version": "1.5.0",
          "model_name": "ProgressStyleModel",
          "state": {
            "_model_module": "@jupyter-widgets/controls",
            "_model_module_version": "1.5.0",
            "_model_name": "ProgressStyleModel",
            "_view_count": null,
            "_view_module": "@jupyter-widgets/base",
            "_view_module_version": "1.2.0",
            "_view_name": "StyleView",
            "bar_color": null,
            "description_width": ""
          }
        }
      }
    }
  },
  "nbformat": 4,
  "nbformat_minor": 0
}